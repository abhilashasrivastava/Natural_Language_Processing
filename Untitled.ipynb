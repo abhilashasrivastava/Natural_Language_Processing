{
 "cells": [
  {
   "cell_type": "code",
   "execution_count": null,
   "id": "1e310b05",
   "metadata": {},
   "outputs": [
    {
     "name": "stdout",
     "output_type": "stream",
     "text": [
      "[=-------------------------------------------------] 2.3% 38.4/1662.8MB downloaded"
     ]
    }
   ],
   "source": [
    "import gensim.downloader as api\n",
    "\n",
    "wv = api.load(\"word2vec-google-news-300\")# a model train on google data"
   ]
  },
  {
   "cell_type": "code",
   "execution_count": null,
   "id": "940b091d",
   "metadata": {},
   "outputs": [],
   "source": [
    "wv.similarity(\"profi\")"
   ]
  }
 ],
 "metadata": {
  "kernelspec": {
   "display_name": "Python (GPU)",
   "language": "python",
   "name": "new_gpu"
  },
  "language_info": {
   "codemirror_mode": {
    "name": "ipython",
    "version": 3
   },
   "file_extension": ".py",
   "mimetype": "text/x-python",
   "name": "python",
   "nbconvert_exporter": "python",
   "pygments_lexer": "ipython3",
   "version": "3.9.18"
  }
 },
 "nbformat": 4,
 "nbformat_minor": 5
}
