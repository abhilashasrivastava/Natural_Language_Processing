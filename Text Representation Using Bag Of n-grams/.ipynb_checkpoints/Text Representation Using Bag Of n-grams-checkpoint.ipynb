{
 "cells": [
  {
   "cell_type": "code",
   "execution_count": 1,
   "id": "77b6f01e-019e-4634-bcbe-d2ab8bc2cf76",
   "metadata": {},
   "outputs": [],
   "source": [
    "from sklearn.feature_extraction.text import CountVectorizer "
   ]
  },
  {
   "cell_type": "code",
   "execution_count": 7,
   "id": "f35f0357-af64-4257-bd37-8df0a02bbd2d",
   "metadata": {},
   "outputs": [
    {
     "data": {
      "text/plain": [
       "{'love': 10,\n",
       " 'to': 18,\n",
       " 'play': 14,\n",
       " 'with': 22,\n",
       " 'data': 3,\n",
       " 'and': 0,\n",
       " 'its': 8,\n",
       " 'forms': 7,\n",
       " 'love to': 11,\n",
       " 'to play': 19,\n",
       " 'play with': 15,\n",
       " 'with data': 23,\n",
       " 'data and': 4,\n",
       " 'and its': 1,\n",
       " 'its forms': 9,\n",
       " 'love to play': 12,\n",
       " 'to play with': 20,\n",
       " 'play with data': 16,\n",
       " 'with data and': 24,\n",
       " 'data and its': 5,\n",
       " 'and its forms': 2,\n",
       " 'love to play with': 13,\n",
       " 'to play with data': 21,\n",
       " 'play with data and': 17,\n",
       " 'with data and its': 25,\n",
       " 'data and its forms': 6}"
      ]
     },
     "execution_count": 7,
     "metadata": {},
     "output_type": "execute_result"
    }
   ],
   "source": [
    "v = CountVectorizer(ngram_range = (1,4))\n",
    "v.fit([\"I love to play with data and its forms\"])\n",
    "v.vocabulary_"
   ]
  },
  {
   "cell_type": "code",
   "execution_count": 8,
   "id": "765dfd8b-05b6-46ea-82c5-ff5e9b82b366",
   "metadata": {},
   "outputs": [],
   "source": [
    "corpus = [\n",
    "    \"Thor ate pizza\",\n",
    "    \"Loki is tall\",\n",
    "    \"Loki is eating pizza\"\n",
    "]"
   ]
  },
  {
   "cell_type": "code",
   "execution_count": 12,
   "id": "9aa638e7-70b4-4c1e-8cb2-9ec9cc8f42d3",
   "metadata": {},
   "outputs": [],
   "source": [
    "#preprocessing\n",
    "import spacy\n",
    "nlp = spacy.load(\"en_core_web_sm\")\n",
    "def preprocessing(text):\n",
    "    doc = nlp(text)\n",
    "    filtered_token = []\n",
    "    for token in doc:\n",
    "        if token.is_stop or token.is_punct:\n",
    "            continue\n",
    "        filtered_token.append(token.lemma_)\n",
    "    return \" \".join(filtered_token)\n"
   ]
  },
  {
   "cell_type": "code",
   "execution_count": 13,
   "id": "aa9c6d88-839d-46ea-92d8-1510e55f6e25",
   "metadata": {},
   "outputs": [],
   "source": [
    "corpus_processed = [preprocessing(text) for text in corpus]"
   ]
  },
  {
   "cell_type": "code",
   "execution_count": 14,
   "id": "0907ec28-9bec-4801-bbab-9c65af4bbae2",
   "metadata": {},
   "outputs": [
    {
     "data": {
      "text/plain": [
       "['thor eat pizza', 'Loki tall', 'Loki eat pizza']"
      ]
     },
     "execution_count": 14,
     "metadata": {},
     "output_type": "execute_result"
    }
   ],
   "source": [
    "corpus_processed"
   ]
  },
  {
   "cell_type": "code",
   "execution_count": 15,
   "id": "fd7ae8bb-b12c-4af8-95b5-cda43c1efa15",
   "metadata": {},
   "outputs": [
    {
     "data": {
      "text/plain": [
       "{'thor': 8,\n",
       " 'eat': 0,\n",
       " 'pizza': 6,\n",
       " 'thor eat': 9,\n",
       " 'eat pizza': 1,\n",
       " 'thor eat pizza': 10,\n",
       " 'loki': 2,\n",
       " 'tall': 7,\n",
       " 'loki tall': 5,\n",
       " 'loki eat': 3,\n",
       " 'loki eat pizza': 4}"
      ]
     },
     "execution_count": 15,
     "metadata": {},
     "output_type": "execute_result"
    }
   ],
   "source": [
    "v = CountVectorizer(ngram_range = (1,4))\n",
    "v.fit(corpus_processed)\n",
    "v.vocabulary_"
   ]
  },
  {
   "cell_type": "code",
   "execution_count": null,
   "id": "c2716405-35fd-4068-ab5e-a2b13e2e3a57",
   "metadata": {},
   "outputs": [],
   "source": [
    "#vectorization"
   ]
  },
  {
   "cell_type": "code",
   "execution_count": 16,
   "id": "d64c7196-bc84-4802-8e4f-9e28021308e1",
   "metadata": {},
   "outputs": [
    {
     "data": {
      "text/plain": [
       "array([[1, 1, 0, 0, 0, 0, 1, 0, 1, 1, 1]], dtype=int64)"
      ]
     },
     "execution_count": 16,
     "metadata": {},
     "output_type": "execute_result"
    }
   ],
   "source": [
    "v.transform(['thor eat pizza']).toarray()"
   ]
  },
  {
   "cell_type": "code",
   "execution_count": 18,
   "id": "7843e93e-d609-4d1c-8cf8-49da09c191d6",
   "metadata": {},
   "outputs": [
    {
     "name": "stdout",
     "output_type": "stream",
     "text": [
      "(12695, 2)\n"
     ]
    },
    {
     "data": {
      "text/html": [
       "<div>\n",
       "<style scoped>\n",
       "    .dataframe tbody tr th:only-of-type {\n",
       "        vertical-align: middle;\n",
       "    }\n",
       "\n",
       "    .dataframe tbody tr th {\n",
       "        vertical-align: top;\n",
       "    }\n",
       "\n",
       "    .dataframe thead th {\n",
       "        text-align: right;\n",
       "    }\n",
       "</style>\n",
       "<table border=\"1\" class=\"dataframe\">\n",
       "  <thead>\n",
       "    <tr style=\"text-align: right;\">\n",
       "      <th></th>\n",
       "      <th>text</th>\n",
       "      <th>category</th>\n",
       "    </tr>\n",
       "  </thead>\n",
       "  <tbody>\n",
       "    <tr>\n",
       "      <th>0</th>\n",
       "      <td>Watching Schrödinger's Cat Die University of C...</td>\n",
       "      <td>SCIENCE</td>\n",
       "    </tr>\n",
       "    <tr>\n",
       "      <th>1</th>\n",
       "      <td>WATCH: Freaky Vortex Opens Up In Flooded Lake</td>\n",
       "      <td>SCIENCE</td>\n",
       "    </tr>\n",
       "    <tr>\n",
       "      <th>2</th>\n",
       "      <td>Entrepreneurs Today Don't Need a Big Budget to...</td>\n",
       "      <td>BUSINESS</td>\n",
       "    </tr>\n",
       "    <tr>\n",
       "      <th>3</th>\n",
       "      <td>These Roads Could Recharge Your Electric Car A...</td>\n",
       "      <td>BUSINESS</td>\n",
       "    </tr>\n",
       "    <tr>\n",
       "      <th>4</th>\n",
       "      <td>Civilian 'Guard' Fires Gun While 'Protecting' ...</td>\n",
       "      <td>CRIME</td>\n",
       "    </tr>\n",
       "  </tbody>\n",
       "</table>\n",
       "</div>"
      ],
      "text/plain": [
       "                                                text  category\n",
       "0  Watching Schrödinger's Cat Die University of C...   SCIENCE\n",
       "1     WATCH: Freaky Vortex Opens Up In Flooded Lake    SCIENCE\n",
       "2  Entrepreneurs Today Don't Need a Big Budget to...  BUSINESS\n",
       "3  These Roads Could Recharge Your Electric Car A...  BUSINESS\n",
       "4  Civilian 'Guard' Fires Gun While 'Protecting' ...     CRIME"
      ]
     },
     "execution_count": 18,
     "metadata": {},
     "output_type": "execute_result"
    }
   ],
   "source": [
    "import pandas as pd\n",
    "df = pd.read_json(\"news_dataset.json\")\n",
    "print(df.shape)\n",
    "df.head()"
   ]
  },
  {
   "cell_type": "code",
   "execution_count": 25,
   "id": "b5b031f1-b308-420e-aa48-bb5ff8006de9",
   "metadata": {},
   "outputs": [
    {
     "data": {
      "text/plain": [
       "BUSINESS    4254\n",
       "SPORTS      4167\n",
       "CRIME       2893\n",
       "SCIENCE     1381\n",
       "Name: category, dtype: int64"
      ]
     },
     "execution_count": 25,
     "metadata": {},
     "output_type": "execute_result"
    }
   ],
   "source": [
    "df.category.value_counts()"
   ]
  },
  {
   "cell_type": "code",
   "execution_count": 26,
   "id": "79c26be9-0e06-4aee-b141-87126d0444df",
   "metadata": {},
   "outputs": [],
   "source": [
    "#it is imbalanced dataset we use UNDERSAMPLING taking min value here is science"
   ]
  },
  {
   "cell_type": "code",
   "execution_count": 28,
   "id": "1c5f732d-e107-4f67-97ac-52d430e05716",
   "metadata": {},
   "outputs": [],
   "source": [
    "min_sample = 1381\n",
    "df_business = df[df.category == \"BUSINESS\"].sample(min_sample, random_state = 1000)\n",
    "df_sports = df[df.category == \"SPORTS\"].sample(min_sample, random_state = 1000)\n",
    "df_crime = df[df.category == \"CRIME\"].sample(min_sample, random_state = 1000)\n",
    "df_science = df[df.category == \"SCIENCE\"].sample(min_sample, random_state = 1000)"
   ]
  },
  {
   "cell_type": "code",
   "execution_count": 34,
   "id": "f97ee915-2b91-43d3-9eeb-c319e20cc38a",
   "metadata": {},
   "outputs": [],
   "source": [
    "df_balanced = pd.concat([df_business,df_sports,df_crime,df_science])"
   ]
  },
  {
   "cell_type": "code",
   "execution_count": 35,
   "id": "bf3ef392-12f5-4b34-9cfc-643878c60d2c",
   "metadata": {},
   "outputs": [
    {
     "data": {
      "text/plain": [
       "BUSINESS    1381\n",
       "SPORTS      1381\n",
       "CRIME       1381\n",
       "SCIENCE     1381\n",
       "Name: category, dtype: int64"
      ]
     },
     "execution_count": 35,
     "metadata": {},
     "output_type": "execute_result"
    }
   ],
   "source": [
    "df_balanced['category'].value_counts()"
   ]
  },
  {
   "cell_type": "code",
   "execution_count": 37,
   "id": "0a6a8933-1bbf-48c8-bc71-3ab9c25409ae",
   "metadata": {},
   "outputs": [
    {
     "data": {
      "text/plain": [
       "pandas.core.series.Series"
      ]
     },
     "execution_count": 37,
     "metadata": {},
     "output_type": "execute_result"
    }
   ],
   "source": [
    "type(df_balanced.text)"
   ]
  },
  {
   "cell_type": "code",
   "execution_count": 36,
   "id": "b78c85a6-f3ec-4d80-a178-e701cd9e4071",
   "metadata": {},
   "outputs": [],
   "source": [
    "from sklearn.model_selection import train_test_split"
   ]
  },
  {
   "cell_type": "code",
   "execution_count": 38,
   "id": "0ab06295-67c5-4442-8eb0-5f6008817524",
   "metadata": {},
   "outputs": [],
   "source": [
    "df_balanced['category_num'] = df_balanced.category.map({\n",
    "    \"BUSINESS\" : 0,\n",
    "    \"SPORTS\" : 1,\n",
    "    \"CRIME\" : 2,\n",
    "    \"SCIENCE\" : 3\n",
    "})"
   ]
  },
  {
   "cell_type": "code",
   "execution_count": 39,
   "id": "8461be4a-05bb-456c-b15f-e6521209b139",
   "metadata": {},
   "outputs": [
    {
     "data": {
      "text/html": [
       "<div>\n",
       "<style scoped>\n",
       "    .dataframe tbody tr th:only-of-type {\n",
       "        vertical-align: middle;\n",
       "    }\n",
       "\n",
       "    .dataframe tbody tr th {\n",
       "        vertical-align: top;\n",
       "    }\n",
       "\n",
       "    .dataframe thead th {\n",
       "        text-align: right;\n",
       "    }\n",
       "</style>\n",
       "<table border=\"1\" class=\"dataframe\">\n",
       "  <thead>\n",
       "    <tr style=\"text-align: right;\">\n",
       "      <th></th>\n",
       "      <th>text</th>\n",
       "      <th>category</th>\n",
       "      <th>category_num</th>\n",
       "    </tr>\n",
       "  </thead>\n",
       "  <tbody>\n",
       "    <tr>\n",
       "      <th>5318</th>\n",
       "      <td>The Job Market Is Still Years Away From A Full...</td>\n",
       "      <td>BUSINESS</td>\n",
       "      <td>0</td>\n",
       "    </tr>\n",
       "    <tr>\n",
       "      <th>6286</th>\n",
       "      <td>Establishing a Solid Legal Foundation for Your...</td>\n",
       "      <td>BUSINESS</td>\n",
       "      <td>0</td>\n",
       "    </tr>\n",
       "    <tr>\n",
       "      <th>3320</th>\n",
       "      <td>Gender Diversity on Boards: Good, Bad or Indif...</td>\n",
       "      <td>BUSINESS</td>\n",
       "      <td>0</td>\n",
       "    </tr>\n",
       "    <tr>\n",
       "      <th>2844</th>\n",
       "      <td>Volunteering Surprisingly Makes You Feel Like ...</td>\n",
       "      <td>BUSINESS</td>\n",
       "      <td>0</td>\n",
       "    </tr>\n",
       "    <tr>\n",
       "      <th>9903</th>\n",
       "      <td>How Managers Can Hire Employees More Effectively</td>\n",
       "      <td>BUSINESS</td>\n",
       "      <td>0</td>\n",
       "    </tr>\n",
       "  </tbody>\n",
       "</table>\n",
       "</div>"
      ],
      "text/plain": [
       "                                                   text  category  \\\n",
       "5318  The Job Market Is Still Years Away From A Full...  BUSINESS   \n",
       "6286  Establishing a Solid Legal Foundation for Your...  BUSINESS   \n",
       "3320  Gender Diversity on Boards: Good, Bad or Indif...  BUSINESS   \n",
       "2844  Volunteering Surprisingly Makes You Feel Like ...  BUSINESS   \n",
       "9903  How Managers Can Hire Employees More Effectively   BUSINESS   \n",
       "\n",
       "      category_num  \n",
       "5318             0  \n",
       "6286             0  \n",
       "3320             0  \n",
       "2844             0  \n",
       "9903             0  "
      ]
     },
     "execution_count": 39,
     "metadata": {},
     "output_type": "execute_result"
    }
   ],
   "source": [
    "df_balanced.head()"
   ]
  },
  {
   "cell_type": "code",
   "execution_count": 48,
   "id": "f04612c0-b727-48ad-92c1-c995243f8fe5",
   "metadata": {},
   "outputs": [],
   "source": [
    "X_train, X_test, y_train, y_test = train_test_split(\n",
    "    df_balanced.text,\n",
    "    df_balanced.category_num,\n",
    "    test_size = 0.2,\n",
    "    random_state =1000,\n",
    "    stratify = df_balanced.category_num\n",
    ")"
   ]
  },
  {
   "cell_type": "code",
   "execution_count": 49,
   "id": "2faa01e6-c1b8-4135-9aaa-f86c8a22a2f5",
   "metadata": {},
   "outputs": [
    {
     "data": {
      "text/plain": [
       "(4419,)"
      ]
     },
     "execution_count": 49,
     "metadata": {},
     "output_type": "execute_result"
    }
   ],
   "source": [
    "X_train.shape\n"
   ]
  },
  {
   "cell_type": "code",
   "execution_count": 50,
   "id": "ac512637-1a8b-458a-b148-fb041e2a4661",
   "metadata": {},
   "outputs": [
    {
     "data": {
      "text/plain": [
       "8669     Here's How Long It Would Take To Fall Through ...\n",
       "10962    Tony Hawk Does A '900' At Age 48 Because He's ...\n",
       "9543     10 Things Entrepreneurs Do Differently Than Me...\n",
       "6728     In A Win For Waymo, Judge Rules Uber Lawsuit W...\n",
       "588      Matt Barnes Is Probably Going To Hear More ‘De...\n",
       "Name: text, dtype: object"
      ]
     },
     "execution_count": 50,
     "metadata": {},
     "output_type": "execute_result"
    }
   ],
   "source": [
    "X_train.head()"
   ]
  },
  {
   "cell_type": "code",
   "execution_count": 51,
   "id": "acabf5b5-8b6a-4373-9cfe-87b3928b1180",
   "metadata": {},
   "outputs": [
    {
     "data": {
      "text/plain": [
       "1    1105\n",
       "0    1105\n",
       "2    1105\n",
       "3    1104\n",
       "Name: category_num, dtype: int64"
      ]
     },
     "execution_count": 51,
     "metadata": {},
     "output_type": "execute_result"
    }
   ],
   "source": [
    "y_train.value_counts() #stratify sample from  all classes are similar"
   ]
  },
  {
   "cell_type": "code",
   "execution_count": 52,
   "id": "7a32b1ec-70de-4948-a6ab-1240c8b7002f",
   "metadata": {},
   "outputs": [
    {
     "data": {
      "text/plain": [
       "3    277\n",
       "2    276\n",
       "1    276\n",
       "0    276\n",
       "Name: category_num, dtype: int64"
      ]
     },
     "execution_count": 52,
     "metadata": {},
     "output_type": "execute_result"
    }
   ],
   "source": [
    "y_test.value_counts()"
   ]
  },
  {
   "cell_type": "code",
   "execution_count": null,
   "id": "efc02dd8-30de-4e75-8b5e-b62f801bb3a9",
   "metadata": {},
   "outputs": [],
   "source": []
  }
 ],
 "metadata": {
  "kernelspec": {
   "display_name": "Python (GPU)",
   "language": "python",
   "name": "new_gpu"
  },
  "language_info": {
   "codemirror_mode": {
    "name": "ipython",
    "version": 3
   },
   "file_extension": ".py",
   "mimetype": "text/x-python",
   "name": "python",
   "nbconvert_exporter": "python",
   "pygments_lexer": "ipython3",
   "version": "3.9.18"
  }
 },
 "nbformat": 4,
 "nbformat_minor": 5
}
