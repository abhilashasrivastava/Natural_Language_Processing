{
 "cells": [
  {
   "cell_type": "code",
   "execution_count": 1,
   "id": "c20a0493",
   "metadata": {},
   "outputs": [],
   "source": [
    "import spacy\n",
    "nlp = spacy.load(\"en_core_web_lg\")"
   ]
  },
  {
   "cell_type": "code",
   "execution_count": 2,
   "id": "d7c4a2d6",
   "metadata": {},
   "outputs": [
    {
     "name": "stdout",
     "output_type": "stream",
     "text": [
      "dog True OOV: False\n",
      "cat True OOV: False\n",
      "banana True OOV: False\n",
      "gdewifg False OOV: True\n"
     ]
    }
   ],
   "source": [
    "doc = nlp(\"dog cat banana gdewifg\")\n",
    "for token in doc:\n",
    "    print(token.text, token.has_vector, \"OOV:\",token.is_oov)"
   ]
  },
  {
   "cell_type": "code",
   "execution_count": 4,
   "id": "3550968e",
   "metadata": {},
   "outputs": [
    {
     "data": {
      "text/plain": [
       "(300,)"
      ]
     },
     "execution_count": 4,
     "metadata": {},
     "output_type": "execute_result"
    }
   ],
   "source": [
    "doc[0].vector.shape"
   ]
  },
  {
   "cell_type": "code",
   "execution_count": 7,
   "id": "daad0f83",
   "metadata": {},
   "outputs": [
    {
     "data": {
      "text/plain": [
       "(300,)"
      ]
     },
     "execution_count": 7,
     "metadata": {},
     "output_type": "execute_result"
    }
   ],
   "source": [
    "base_token = nlp(\"bread\")\n",
    "base_token.vector.shape"
   ]
  },
  {
   "cell_type": "code",
   "execution_count": 10,
   "id": "dfc267c6",
   "metadata": {},
   "outputs": [
    {
     "name": "stdout",
     "output_type": "stream",
     "text": [
      "sandwich <-> bread: 0.6341067010130894\n",
      "burger <-> bread: 0.47520687769584247\n",
      "car <-> bread: 0.06451533308853552\n",
      "tiger <-> bread: 0.04764611675903374\n",
      "human <-> bread: 0.2151154210812192\n",
      "wheat <-> bread: 0.6150360888607199\n"
     ]
    }
   ],
   "source": [
    "doc = nlp(\"sandwich burger car tiger human wheat\")\n",
    "for token in doc:\n",
    "    print(f\"{token.text} <-> {base_token.text}:\",token.similarity(base_token))\n"
   ]
  },
  {
   "cell_type": "code",
   "execution_count": 12,
   "id": "1483a25b",
   "metadata": {},
   "outputs": [],
   "source": [
    "def print_similarity(base_word, word_to_campare):\n",
    "    base_word = nlp(base_word)\n",
    "    word_to_campare = nlp(word_to_campare)\n",
    "    for token in word_to_campare:\n",
    "        print(f\"{token.text} <-> {base_word.text}:\",token.similarity(base_word))\n",
    "    "
   ]
  },
  {
   "cell_type": "code",
   "execution_count": 15,
   "id": "8ea3e949",
   "metadata": {},
   "outputs": [
    {
     "name": "stdout",
     "output_type": "stream",
     "text": [
      "apple <-> iphone: 0.4387907401919904\n",
      "samsung <-> iphone: 0.670859081425417\n",
      "nokia <-> iphone: 0.636268250170249\n",
      "dog <-> iphone: 0.08211864228011527\n",
      "cat <-> iphone: 0.11430551522997741\n"
     ]
    }
   ],
   "source": [
    "print_similarity('iphone','apple samsung nokia dog cat')"
   ]
  },
  {
   "cell_type": "code",
   "execution_count": null,
   "id": "89c3c4ab",
   "metadata": {},
   "outputs": [],
   "source": []
  }
 ],
 "metadata": {
  "kernelspec": {
   "display_name": "Python (GPU)",
   "language": "python",
   "name": "new_gpu"
  },
  "language_info": {
   "codemirror_mode": {
    "name": "ipython",
    "version": 3
   },
   "file_extension": ".py",
   "mimetype": "text/x-python",
   "name": "python",
   "nbconvert_exporter": "python",
   "pygments_lexer": "ipython3",
   "version": "3.9.18"
  }
 },
 "nbformat": 4,
 "nbformat_minor": 5
}
