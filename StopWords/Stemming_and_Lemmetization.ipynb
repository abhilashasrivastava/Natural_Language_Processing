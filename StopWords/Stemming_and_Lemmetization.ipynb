{
 "cells": [
  {
   "cell_type": "code",
   "execution_count": 1,
   "id": "1439e046-1aaf-45bf-b756-f3a866ecd8b3",
   "metadata": {},
   "outputs": [],
   "source": [
    "import spacy"
   ]
  },
  {
   "cell_type": "code",
   "execution_count": 2,
   "id": "97422dd9-c454-4400-8d5b-04a499f29a25",
   "metadata": {},
   "outputs": [
    {
     "name": "stdout",
     "output_type": "stream",
     "text": [
      "Credit\n",
      "Card\n",
      "in\n",
      "the\n",
      "immediately\n",
      "preceding\n",
      "membership\n",
      "year\n",
      "is\n",
      "Rs.90,000\n",
      "to\n",
      "Rs.1,49,999\n",
      ".\n"
     ]
    }
   ],
   "source": [
    "nlp = spacy.blank(\"en\")\n",
    "doc = nlp(\"Credit Card in the immediately preceding membership year is Rs.90,000 to Rs.1,49,999.\")\n",
    "for token in doc:\n",
    "    print(token.text)"
   ]
  },
  {
   "cell_type": "code",
   "execution_count": 3,
   "id": "1653d210-52f9-4168-a0ab-539e83099b67",
   "metadata": {},
   "outputs": [
    {
     "data": {
      "text/plain": [
       "[]"
      ]
     },
     "execution_count": 3,
     "metadata": {},
     "output_type": "execute_result"
    }
   ],
   "source": [
    "nlp.pipe_names"
   ]
  },
  {
   "cell_type": "code",
   "execution_count": 5,
   "id": "869d1b23-d924-4dbf-8875-37cce2f51291",
   "metadata": {},
   "outputs": [
    {
     "data": {
      "text/plain": [
       "[]"
      ]
     },
     "execution_count": 5,
     "metadata": {},
     "output_type": "execute_result"
    }
   ],
   "source": [
    "nlp.pipeline"
   ]
  },
  {
   "cell_type": "code",
   "execution_count": 6,
   "id": "25ad71bc-47a4-4c53-801c-a076b78ff1b4",
   "metadata": {},
   "outputs": [
    {
     "name": "stdout",
     "output_type": "stream",
     "text": [
      "Credit\n",
      "Card\n",
      "in\n",
      "the\n",
      "immediately\n",
      "preceding\n",
      "membership\n",
      "year\n",
      "is\n",
      "Rs.90,000\n",
      "to\n",
      "Rs.1,49,999\n",
      ".\n"
     ]
    }
   ],
   "source": [
    "nlp = spacy.load(\"en_core_web_sm\")\n",
    "doc = nlp(\"Credit Card in the immediately preceding membership year is Rs.90,000 to Rs.1,49,999.\")\n",
    "for token in doc:\n",
    "    print(token.text)"
   ]
  },
  {
   "cell_type": "code",
   "execution_count": 7,
   "id": "631cbcd5-0ba9-41c4-a661-0ca55268d083",
   "metadata": {},
   "outputs": [
    {
     "data": {
      "text/plain": [
       "['tok2vec', 'tagger', 'parser', 'attribute_ruler', 'lemmatizer', 'ner']"
      ]
     },
     "execution_count": 7,
     "metadata": {},
     "output_type": "execute_result"
    }
   ],
   "source": [
    "nlp.pipe_names"
   ]
  },
  {
   "cell_type": "code",
   "execution_count": 9,
   "id": "96ffddc6-dd8e-46e0-8356-1e0cef79357b",
   "metadata": {},
   "outputs": [
    {
     "name": "stdout",
     "output_type": "stream",
     "text": [
      "Credit | Credit | PROPN |\n",
      "Card | Card | PROPN |\n",
      "in | in | ADP |\n",
      "the | the | DET |\n",
      "immediately | immediately | ADV |\n",
      "preceding | precede | VERB |\n",
      "membership | membership | NOUN |\n",
      "year | year | NOUN |\n",
      "is | be | AUX |\n",
      "Rs.90,000 | rs.90,000 | ADJ |\n",
      "to | to | ADP |\n",
      "Rs.1,49,999 | Rs.1,49,999 | PROPN |\n",
      ". | . | PUNCT |\n"
     ]
    }
   ],
   "source": [
    "for token in doc:\n",
    "    print(token, \"|\", token.lemma_,\"|\", token.pos_, \"|\")"
   ]
  },
  {
   "cell_type": "code",
   "execution_count": 14,
   "id": "d7024643-1fb4-4899-b2ec-867d69da473b",
   "metadata": {},
   "outputs": [
    {
     "name": "stdout",
     "output_type": "stream",
     "text": [
      "Credit Card | 383 | Companies, agencies, institutions, etc. |\n"
     ]
    }
   ],
   "source": [
    "doc = nlp(\"Credit Card in the immediately preceding membership year is Rs.90,000 to Rs.1,49,999.\")\n",
    "for ent in doc.ents:\n",
    "    print(ent.text, \"|\", ent.label, \"|\",spacy.explain(ent.label_),\"|\")"
   ]
  },
  {
   "cell_type": "code",
   "execution_count": 16,
   "id": "2fff16f4-9b72-4e19-9a40-64054282a060",
   "metadata": {},
   "outputs": [
    {
     "data": {
      "text/plain": [
       "<spacy.pipeline.ner.EntityRecognizer at 0x1e8b9b953c0>"
      ]
     },
     "execution_count": 16,
     "metadata": {},
     "output_type": "execute_result"
    }
   ],
   "source": [
    "source_nlp = spacy.load(\"en_core_web_sm\")\n",
    "nlp = spacy.blank(\"en\")\n",
    "nlp.add_pipe(\"ner\", source = source_nlp)\n"
   ]
  },
  {
   "cell_type": "code",
   "execution_count": 20,
   "id": "7ae10939-19a2-41b2-854c-aa5c3c3aede0",
   "metadata": {},
   "outputs": [
    {
     "name": "stdout",
     "output_type": "stream",
     "text": [
      "Credit Card | 383 | Companies, agencies, institutions, etc.\n"
     ]
    }
   ],
   "source": [
    "doc = nlp(\"Credit Card in the immediately preceding membership year is Rs.90,000 to Rs.1,49,999.\")\n",
    "for ent in doc.ents:\n",
    "    print(ent.text, \"|\", ent.label, \"|\",spacy.explain(ent.label_))"
   ]
  },
  {
   "cell_type": "code",
   "execution_count": null,
   "id": "a541cbf1-fdd2-4f90-88cb-d6fbe2de7460",
   "metadata": {},
   "outputs": [],
   "source": []
  }
 ],
 "metadata": {
  "kernelspec": {
   "display_name": "Python 3 (ipykernel)",
   "language": "python",
   "name": "python3"
  },
  "language_info": {
   "codemirror_mode": {
    "name": "ipython",
    "version": 3
   },
   "file_extension": ".py",
   "mimetype": "text/x-python",
   "name": "python",
   "nbconvert_exporter": "python",
   "pygments_lexer": "ipython3",
   "version": "3.9.18"
  }
 },
 "nbformat": 4,
 "nbformat_minor": 5
}
