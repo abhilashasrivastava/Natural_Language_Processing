{
 "cells": [
  {
   "cell_type": "code",
   "execution_count": 1,
   "id": "0c9a002f-ccef-40b0-bfd6-3d4c014eb59d",
   "metadata": {},
   "outputs": [],
   "source": [
    "import spacy"
   ]
  },
  {
   "cell_type": "code",
   "execution_count": 2,
   "id": "04efdcc3-f322-43f8-95a5-cedbe5a908af",
   "metadata": {},
   "outputs": [],
   "source": [
    "text = '''Inflation rose again in April, continuing a climb that has pushed consumers to the \n",
    "brink and is threatening the economic expansion, the Bureau of Labor Statistics reported Wednesday\n",
    ".\\n\\nThe consumer price index, a broad-based measure of prices for goods and services, increased \n",
    "8.3% from a year ago, higher than the Dow Jones estimate for an 8.1% gain. That represented a slight \n",
    "ease from Marchâ€™s peak but was still close to the highest level since the summer of 1982.\\n\\nRemoving \n",
    "volatile food and ene'''"
   ]
  },
  {
   "cell_type": "code",
   "execution_count": 3,
   "id": "235554c0-90f6-4179-8b0f-bf2be208c5a0",
   "metadata": {},
   "outputs": [],
   "source": [
    "nlp = spacy.load(\"en_core_web_sm\")\n",
    "doc = nlp(text)"
   ]
  },
  {
   "cell_type": "code",
   "execution_count": null,
   "id": "37bcb600-54bb-4236-9138-10b4df2eb626",
   "metadata": {},
   "outputs": [],
   "source": [
    "#Extract NOUN and NUM tokens"
   ]
  },
  {
   "cell_type": "code",
   "execution_count": 6,
   "id": "dd633cdc-3737-4b79-ad4c-3c5cbed48fd8",
   "metadata": {},
   "outputs": [],
   "source": [
    "noun = []\n",
    "num = []\n",
    "for token in doc:\n",
    "    if(token.pos_ == \"NOUN\"):\n",
    "        noun.append(token)\n",
    "    if(token.pos_ == \"NUM\"):\n",
    "        num.append(token)\n",
    "   "
   ]
  },
  {
   "cell_type": "code",
   "execution_count": 7,
   "id": "3baa57d6-9834-4a4a-820c-27b407678a98",
   "metadata": {},
   "outputs": [
    {
     "data": {
      "text/plain": [
       "[Inflation,\n",
       " climb,\n",
       " consumers,\n",
       " brink,\n",
       " expansion,\n",
       " consumer,\n",
       " price,\n",
       " index,\n",
       " measure,\n",
       " prices,\n",
       " goods,\n",
       " services,\n",
       " %,\n",
       " year,\n",
       " estimate,\n",
       " %,\n",
       " gain,\n",
       " ease,\n",
       " Marchâ€,\n",
       " ™,\n",
       " peak,\n",
       " level,\n",
       " summer,\n",
       " food,\n",
       " ene]"
      ]
     },
     "execution_count": 7,
     "metadata": {},
     "output_type": "execute_result"
    }
   ],
   "source": [
    "noun"
   ]
  },
  {
   "cell_type": "code",
   "execution_count": 8,
   "id": "e159abef-bf66-4707-ab93-f71c99a15173",
   "metadata": {},
   "outputs": [
    {
     "data": {
      "text/plain": [
       "[8.3, 8.1, 1982]"
      ]
     },
     "execution_count": 8,
     "metadata": {},
     "output_type": "execute_result"
    }
   ],
   "source": [
    "num"
   ]
  },
  {
   "cell_type": "code",
   "execution_count": null,
   "id": "078b955c-7036-4bdb-a98b-9066147d0a1a",
   "metadata": {},
   "outputs": [],
   "source": [
    "#Print a count of all POS tags"
   ]
  },
  {
   "cell_type": "code",
   "execution_count": 10,
   "id": "b258538d-cada-4e6d-bb13-68b4d7046c13",
   "metadata": {},
   "outputs": [
    {
     "data": {
      "text/plain": [
       "{92: 25,\n",
       " 100: 9,\n",
       " 86: 4,\n",
       " 85: 11,\n",
       " 96: 7,\n",
       " 97: 9,\n",
       " 90: 12,\n",
       " 95: 2,\n",
       " 87: 3,\n",
       " 103: 7,\n",
       " 89: 4,\n",
       " 84: 6,\n",
       " 93: 3,\n",
       " 94: 1,\n",
       " 98: 1}"
      ]
     },
     "execution_count": 10,
     "metadata": {},
     "output_type": "execute_result"
    }
   ],
   "source": [
    "count_doc = doc.count_by(spacy.attrs.POS)\n",
    "count_doc"
   ]
  },
  {
   "cell_type": "code",
   "execution_count": 12,
   "id": "6b8d8ccd-9c18-4ac7-b021-2a676d6ad9ce",
   "metadata": {},
   "outputs": [
    {
     "name": "stdout",
     "output_type": "stream",
     "text": [
      "NOUN | 25\n",
      "VERB | 9\n",
      "ADV | 4\n",
      "ADP | 11\n",
      "PROPN | 7\n",
      "PUNCT | 9\n",
      "DET | 12\n",
      "PRON | 2\n",
      "AUX | 3\n",
      "SPACE | 7\n",
      "CCONJ | 4\n",
      "ADJ | 6\n",
      "NUM | 3\n",
      "PART | 1\n",
      "SCONJ | 1\n"
     ]
    }
   ],
   "source": [
    "for k,v in count_doc.items():\n",
    "    print(doc.vocab[k].text, \"|\",v)"
   ]
  },
  {
   "cell_type": "code",
   "execution_count": null,
   "id": "8c52af10-5b8d-4662-9848-c03b46ade59c",
   "metadata": {},
   "outputs": [],
   "source": []
  }
 ],
 "metadata": {
  "kernelspec": {
   "display_name": "Python 3 (ipykernel)",
   "language": "python",
   "name": "python3"
  },
  "language_info": {
   "codemirror_mode": {
    "name": "ipython",
    "version": 3
   },
   "file_extension": ".py",
   "mimetype": "text/x-python",
   "name": "python",
   "nbconvert_exporter": "python",
   "pygments_lexer": "ipython3",
   "version": "3.9.18"
  }
 },
 "nbformat": 4,
 "nbformat_minor": 5
}
