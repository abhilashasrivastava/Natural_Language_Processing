{
 "cells": [
  {
   "cell_type": "code",
   "execution_count": 1,
   "id": "12b1094f-4171-42e9-90fd-c9a9a262c991",
   "metadata": {},
   "outputs": [],
   "source": [
    "import spacy"
   ]
  },
  {
   "cell_type": "code",
   "execution_count": 3,
   "id": "16383bc8-72ae-4d8b-9945-56e0a2c26409",
   "metadata": {},
   "outputs": [],
   "source": [
    "nlp = spacy.load(\"en_core_web_sm\")"
   ]
  },
  {
   "cell_type": "code",
   "execution_count": 6,
   "id": "ec4585cf-8ed3-4107-9b0e-a0a0bfdaa2b8",
   "metadata": {},
   "outputs": [],
   "source": [
    "doc = nlp(\"hey my name is arjuna. I love to play cricket\")"
   ]
  },
  {
   "cell_type": "code",
   "execution_count": 7,
   "id": "2b136c67-8510-4276-b3fb-8345dd97b9f9",
   "metadata": {},
   "outputs": [
    {
     "name": "stdout",
     "output_type": "stream",
     "text": [
      "hey my name is arjuna.\n",
      "I love to play cricket\n"
     ]
    }
   ],
   "source": [
    "for sentence in doc.sents:\n",
    "    print(sentence)"
   ]
  },
  {
   "cell_type": "code",
   "execution_count": 8,
   "id": "7a7ef1e0-a8b1-4e7a-b3e6-56c51ae7f8a8",
   "metadata": {},
   "outputs": [
    {
     "name": "stdout",
     "output_type": "stream",
     "text": [
      "hey\n",
      "my\n",
      "name\n",
      "is\n",
      "arjuna\n",
      ".\n",
      "I\n",
      "love\n",
      "to\n",
      "play\n",
      "cricket\n"
     ]
    }
   ],
   "source": [
    "for sentence in doc.sents:\n",
    "    for words in sentence:\n",
    "        print(words)"
   ]
  },
  {
   "cell_type": "code",
   "execution_count": 10,
   "id": "78ff9ec8-bf80-4db0-9a19-aae80857bb9d",
   "metadata": {},
   "outputs": [
    {
     "name": "stderr",
     "output_type": "stream",
     "text": [
      "[nltk_data] Downloading package punkt to\n",
      "[nltk_data]     C:\\Users\\sriva\\AppData\\Roaming\\nltk_data...\n",
      "[nltk_data]   Package punkt is already up-to-date!\n"
     ]
    },
    {
     "data": {
      "text/plain": [
       "True"
      ]
     },
     "execution_count": 10,
     "metadata": {},
     "output_type": "execute_result"
    }
   ],
   "source": [
    "import nltk\n",
    "nltk.download('punkt')"
   ]
  },
  {
   "cell_type": "code",
   "execution_count": 11,
   "id": "431c348f-91b5-4a7e-880b-ed16a763cd8c",
   "metadata": {},
   "outputs": [],
   "source": [
    "from nltk.tokenize import sent_tokenize "
   ]
  },
  {
   "cell_type": "code",
   "execution_count": 12,
   "id": "dbbef2fb-73f1-4d78-abe1-51b20e6d4a8c",
   "metadata": {},
   "outputs": [
    {
     "data": {
      "text/plain": [
       "['hey my name is arjuna.', 'I love to play cricket']"
      ]
     },
     "execution_count": 12,
     "metadata": {},
     "output_type": "execute_result"
    }
   ],
   "source": [
    "sent_tokenize(\"hey my name is arjuna. I love to play cricket\")"
   ]
  },
  {
   "cell_type": "code",
   "execution_count": 13,
   "id": "4a0754fd-67c6-485e-b445-b3c7ce5eaca9",
   "metadata": {},
   "outputs": [],
   "source": [
    "from nltk.tokenize import word_tokenize "
   ]
  },
  {
   "cell_type": "code",
   "execution_count": 14,
   "id": "6d40a92a-dbfc-487f-93fb-f955f4ccc529",
   "metadata": {},
   "outputs": [
    {
     "data": {
      "text/plain": [
       "['hey',\n",
       " 'my',\n",
       " 'name',\n",
       " 'is',\n",
       " 'arjuna',\n",
       " '.',\n",
       " 'I',\n",
       " 'love',\n",
       " 'to',\n",
       " 'play',\n",
       " 'cricket']"
      ]
     },
     "execution_count": 14,
     "metadata": {},
     "output_type": "execute_result"
    }
   ],
   "source": [
    "word_tokenize(\"hey my name is arjuna. I love to play cricket\")"
   ]
  },
  {
   "cell_type": "code",
   "execution_count": null,
   "id": "1956da37-7757-4d55-a588-562fd632558f",
   "metadata": {},
   "outputs": [],
   "source": []
  }
 ],
 "metadata": {
  "kernelspec": {
   "display_name": "Python (GPU)",
   "language": "python",
   "name": "new_gpu"
  },
  "language_info": {
   "codemirror_mode": {
    "name": "ipython",
    "version": 3
   },
   "file_extension": ".py",
   "mimetype": "text/x-python",
   "name": "python",
   "nbconvert_exporter": "python",
   "pygments_lexer": "ipython3",
   "version": "3.9.18"
  }
 },
 "nbformat": 4,
 "nbformat_minor": 5
}
