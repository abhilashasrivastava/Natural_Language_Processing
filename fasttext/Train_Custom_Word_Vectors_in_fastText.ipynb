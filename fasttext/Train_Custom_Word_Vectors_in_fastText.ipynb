{
  "nbformat": 4,
  "nbformat_minor": 0,
  "metadata": {
    "colab": {
      "provenance": []
    },
    "kernelspec": {
      "name": "python3",
      "display_name": "Python 3"
    },
    "language_info": {
      "name": "python"
    }
  },
  "cells": [
    {
      "cell_type": "code",
      "source": [
        "!pip install opendatasets\n"
      ],
      "metadata": {
        "colab": {
          "base_uri": "https://localhost:8080/"
        },
        "id": "gzS8SB3-6EXW",
        "outputId": "5ed4c046-bd1f-4c0a-fc0b-b85c5206a04b"
      },
      "execution_count": 2,
      "outputs": [
        {
          "output_type": "stream",
          "name": "stdout",
          "text": [
            "Collecting opendatasets\n",
            "  Downloading opendatasets-0.1.22-py3-none-any.whl (15 kB)\n",
            "Requirement already satisfied: tqdm in /usr/local/lib/python3.10/dist-packages (from opendatasets) (4.66.2)\n",
            "Requirement already satisfied: kaggle in /usr/local/lib/python3.10/dist-packages (from opendatasets) (1.5.16)\n",
            "Requirement already satisfied: click in /usr/local/lib/python3.10/dist-packages (from opendatasets) (8.1.7)\n",
            "Requirement already satisfied: six>=1.10 in /usr/local/lib/python3.10/dist-packages (from kaggle->opendatasets) (1.16.0)\n",
            "Requirement already satisfied: certifi in /usr/local/lib/python3.10/dist-packages (from kaggle->opendatasets) (2024.2.2)\n",
            "Requirement already satisfied: python-dateutil in /usr/local/lib/python3.10/dist-packages (from kaggle->opendatasets) (2.8.2)\n",
            "Requirement already satisfied: requests in /usr/local/lib/python3.10/dist-packages (from kaggle->opendatasets) (2.31.0)\n",
            "Requirement already satisfied: python-slugify in /usr/local/lib/python3.10/dist-packages (from kaggle->opendatasets) (8.0.4)\n",
            "Requirement already satisfied: urllib3 in /usr/local/lib/python3.10/dist-packages (from kaggle->opendatasets) (2.0.7)\n",
            "Requirement already satisfied: bleach in /usr/local/lib/python3.10/dist-packages (from kaggle->opendatasets) (6.1.0)\n",
            "Requirement already satisfied: webencodings in /usr/local/lib/python3.10/dist-packages (from bleach->kaggle->opendatasets) (0.5.1)\n",
            "Requirement already satisfied: text-unidecode>=1.3 in /usr/local/lib/python3.10/dist-packages (from python-slugify->kaggle->opendatasets) (1.3)\n",
            "Requirement already satisfied: charset-normalizer<4,>=2 in /usr/local/lib/python3.10/dist-packages (from requests->kaggle->opendatasets) (3.3.2)\n",
            "Requirement already satisfied: idna<4,>=2.5 in /usr/local/lib/python3.10/dist-packages (from requests->kaggle->opendatasets) (3.7)\n",
            "Installing collected packages: opendatasets\n",
            "Successfully installed opendatasets-0.1.22\n"
          ]
        }
      ]
    },
    {
      "cell_type": "code",
      "execution_count": 24,
      "metadata": {
        "id": "tsdrou7p516T"
      },
      "outputs": [],
      "source": [
        "import opendatasets as od"
      ]
    },
    {
      "cell_type": "code",
      "source": [
        "od.download(\"https://www.kaggle.com/datasets/sooryaprakash12/cleaned-indian-recipes-dataset\")"
      ],
      "metadata": {
        "colab": {
          "base_uri": "https://localhost:8080/"
        },
        "id": "6YT3uMkC54uW",
        "outputId": "c59674c3-8b64-4e7e-cf0f-a04ac31b5691"
      },
      "execution_count": 4,
      "outputs": [
        {
          "output_type": "stream",
          "name": "stdout",
          "text": [
            "Please provide your Kaggle credentials to download this dataset. Learn more: http://bit.ly/kaggle-creds\n",
            "Your Kaggle username: abhilasha2003\n",
            "Your Kaggle Key: ··········\n",
            "Downloading cleaned-indian-recipes-dataset.zip to ./cleaned-indian-recipes-dataset\n"
          ]
        },
        {
          "output_type": "stream",
          "name": "stderr",
          "text": [
            "100%|██████████| 3.22M/3.22M [00:00<00:00, 69.1MB/s]"
          ]
        },
        {
          "output_type": "stream",
          "name": "stdout",
          "text": [
            "\n"
          ]
        },
        {
          "output_type": "stream",
          "name": "stderr",
          "text": [
            "\n"
          ]
        }
      ]
    },
    {
      "cell_type": "code",
      "source": [
        "import pandas as pd"
      ],
      "metadata": {
        "id": "BlZQYdsB6JAH"
      },
      "execution_count": 5,
      "outputs": []
    },
    {
      "cell_type": "code",
      "source": [
        "df = pd.read_csv('/content/cleaned-indian-recipes-dataset/Cleaned_Indian_Food_Dataset.csv')"
      ],
      "metadata": {
        "id": "bta3ReBj6c2e"
      },
      "execution_count": 7,
      "outputs": []
    },
    {
      "cell_type": "code",
      "source": [
        "df.shape"
      ],
      "metadata": {
        "colab": {
          "base_uri": "https://localhost:8080/"
        },
        "id": "r91qYC5P6i9q",
        "outputId": "5d9bb3b0-5777-4775-d37a-ee699062e206"
      },
      "execution_count": 8,
      "outputs": [
        {
          "output_type": "execute_result",
          "data": {
            "text/plain": [
              "(5938, 9)"
            ]
          },
          "metadata": {},
          "execution_count": 8
        }
      ]
    },
    {
      "cell_type": "code",
      "source": [
        "df.head()"
      ],
      "metadata": {
        "colab": {
          "base_uri": "https://localhost:8080/",
          "height": 417
        },
        "id": "HJCtNaO76tIP",
        "outputId": "bfa84dfd-fcca-4efa-fdde-ce237ae7921b"
      },
      "execution_count": 9,
      "outputs": [
        {
          "output_type": "execute_result",
          "data": {
            "text/plain": [
              "                                TranslatedRecipeName  \\\n",
              "0                               Masala Karela Recipe   \n",
              "1                         Spicy Tomato Rice (Recipe)   \n",
              "2  Ragi Semiya Upma Recipe - Ragi Millet Vermicel...   \n",
              "3  Gongura Chicken Curry Recipe - Andhra Style Go...   \n",
              "4  Andhra Style Alam Pachadi Recipe - Adrak Chutn...   \n",
              "\n",
              "                               TranslatedIngredients  TotalTimeInMins  \\\n",
              "0  1 tablespoon Red Chilli powder,3 tablespoon Gr...               45   \n",
              "1   2 teaspoon cashew - or peanuts, 1/2 Teaspoon ...               15   \n",
              "2  1 Onion - sliced,1 teaspoon White Urad Dal (Sp...               50   \n",
              "3  1/2 teaspoon Turmeric powder (Haldi),1 tablesp...               45   \n",
              "4   oil - as per use, 1 tablespoon coriander seed...               30   \n",
              "\n",
              "                Cuisine                             TranslatedInstructions  \\\n",
              "0                Indian  To begin making the Masala Karela Recipe,de-se...   \n",
              "1  South Indian Recipes  To make tomato puliogere, first cut the tomato...   \n",
              "2  South Indian Recipes  To begin making the Ragi Vermicelli Recipe, fi...   \n",
              "3                Andhra  To begin making Gongura Chicken Curry Recipe f...   \n",
              "4                Andhra  To make Andhra Style Alam Pachadi, first heat ...   \n",
              "\n",
              "                                                 URL  \\\n",
              "0  https://www.archanaskitchen.com/masala-karela-...   \n",
              "1  https://www.archanaskitchen.com/spicy-tomato-r...   \n",
              "2  https://www.archanaskitchen.com/ragi-vermicell...   \n",
              "3  https://www.archanaskitchen.com/gongura-chicke...   \n",
              "4  https://www.archanaskitchen.com/andhra-style-a...   \n",
              "\n",
              "                                 Cleaned-Ingredients  \\\n",
              "0  salt,amchur (dry mango powder),karela (bitter ...   \n",
              "1  tomato,salt,chickpea lentils,green chilli,rice...   \n",
              "2  salt,rice vermicelli noodles (thin),asafoetida...   \n",
              "3  tomato,salt,ginger,sorrel leaves (gongura),fen...   \n",
              "4  tomato,salt,ginger,red chillies,curry,asafoeti...   \n",
              "\n",
              "                                           image-url  Ingredient-count  \n",
              "0  https://www.archanaskitchen.com/images/archana...                10  \n",
              "1  https://www.archanaskitchen.com/images/archana...                12  \n",
              "2  https://www.archanaskitchen.com/images/archana...                12  \n",
              "3  https://www.archanaskitchen.com/images/archana...                15  \n",
              "4  https://www.archanaskitchen.com/images/archana...                12  "
            ],
            "text/html": [
              "\n",
              "  <div id=\"df-2166b7e4-02d9-428a-9ceb-bdcac558c543\" class=\"colab-df-container\">\n",
              "    <div>\n",
              "<style scoped>\n",
              "    .dataframe tbody tr th:only-of-type {\n",
              "        vertical-align: middle;\n",
              "    }\n",
              "\n",
              "    .dataframe tbody tr th {\n",
              "        vertical-align: top;\n",
              "    }\n",
              "\n",
              "    .dataframe thead th {\n",
              "        text-align: right;\n",
              "    }\n",
              "</style>\n",
              "<table border=\"1\" class=\"dataframe\">\n",
              "  <thead>\n",
              "    <tr style=\"text-align: right;\">\n",
              "      <th></th>\n",
              "      <th>TranslatedRecipeName</th>\n",
              "      <th>TranslatedIngredients</th>\n",
              "      <th>TotalTimeInMins</th>\n",
              "      <th>Cuisine</th>\n",
              "      <th>TranslatedInstructions</th>\n",
              "      <th>URL</th>\n",
              "      <th>Cleaned-Ingredients</th>\n",
              "      <th>image-url</th>\n",
              "      <th>Ingredient-count</th>\n",
              "    </tr>\n",
              "  </thead>\n",
              "  <tbody>\n",
              "    <tr>\n",
              "      <th>0</th>\n",
              "      <td>Masala Karela Recipe</td>\n",
              "      <td>1 tablespoon Red Chilli powder,3 tablespoon Gr...</td>\n",
              "      <td>45</td>\n",
              "      <td>Indian</td>\n",
              "      <td>To begin making the Masala Karela Recipe,de-se...</td>\n",
              "      <td>https://www.archanaskitchen.com/masala-karela-...</td>\n",
              "      <td>salt,amchur (dry mango powder),karela (bitter ...</td>\n",
              "      <td>https://www.archanaskitchen.com/images/archana...</td>\n",
              "      <td>10</td>\n",
              "    </tr>\n",
              "    <tr>\n",
              "      <th>1</th>\n",
              "      <td>Spicy Tomato Rice (Recipe)</td>\n",
              "      <td>2 teaspoon cashew - or peanuts, 1/2 Teaspoon ...</td>\n",
              "      <td>15</td>\n",
              "      <td>South Indian Recipes</td>\n",
              "      <td>To make tomato puliogere, first cut the tomato...</td>\n",
              "      <td>https://www.archanaskitchen.com/spicy-tomato-r...</td>\n",
              "      <td>tomato,salt,chickpea lentils,green chilli,rice...</td>\n",
              "      <td>https://www.archanaskitchen.com/images/archana...</td>\n",
              "      <td>12</td>\n",
              "    </tr>\n",
              "    <tr>\n",
              "      <th>2</th>\n",
              "      <td>Ragi Semiya Upma Recipe - Ragi Millet Vermicel...</td>\n",
              "      <td>1 Onion - sliced,1 teaspoon White Urad Dal (Sp...</td>\n",
              "      <td>50</td>\n",
              "      <td>South Indian Recipes</td>\n",
              "      <td>To begin making the Ragi Vermicelli Recipe, fi...</td>\n",
              "      <td>https://www.archanaskitchen.com/ragi-vermicell...</td>\n",
              "      <td>salt,rice vermicelli noodles (thin),asafoetida...</td>\n",
              "      <td>https://www.archanaskitchen.com/images/archana...</td>\n",
              "      <td>12</td>\n",
              "    </tr>\n",
              "    <tr>\n",
              "      <th>3</th>\n",
              "      <td>Gongura Chicken Curry Recipe - Andhra Style Go...</td>\n",
              "      <td>1/2 teaspoon Turmeric powder (Haldi),1 tablesp...</td>\n",
              "      <td>45</td>\n",
              "      <td>Andhra</td>\n",
              "      <td>To begin making Gongura Chicken Curry Recipe f...</td>\n",
              "      <td>https://www.archanaskitchen.com/gongura-chicke...</td>\n",
              "      <td>tomato,salt,ginger,sorrel leaves (gongura),fen...</td>\n",
              "      <td>https://www.archanaskitchen.com/images/archana...</td>\n",
              "      <td>15</td>\n",
              "    </tr>\n",
              "    <tr>\n",
              "      <th>4</th>\n",
              "      <td>Andhra Style Alam Pachadi Recipe - Adrak Chutn...</td>\n",
              "      <td>oil - as per use, 1 tablespoon coriander seed...</td>\n",
              "      <td>30</td>\n",
              "      <td>Andhra</td>\n",
              "      <td>To make Andhra Style Alam Pachadi, first heat ...</td>\n",
              "      <td>https://www.archanaskitchen.com/andhra-style-a...</td>\n",
              "      <td>tomato,salt,ginger,red chillies,curry,asafoeti...</td>\n",
              "      <td>https://www.archanaskitchen.com/images/archana...</td>\n",
              "      <td>12</td>\n",
              "    </tr>\n",
              "  </tbody>\n",
              "</table>\n",
              "</div>\n",
              "    <div class=\"colab-df-buttons\">\n",
              "\n",
              "  <div class=\"colab-df-container\">\n",
              "    <button class=\"colab-df-convert\" onclick=\"convertToInteractive('df-2166b7e4-02d9-428a-9ceb-bdcac558c543')\"\n",
              "            title=\"Convert this dataframe to an interactive table.\"\n",
              "            style=\"display:none;\">\n",
              "\n",
              "  <svg xmlns=\"http://www.w3.org/2000/svg\" height=\"24px\" viewBox=\"0 -960 960 960\">\n",
              "    <path d=\"M120-120v-720h720v720H120Zm60-500h600v-160H180v160Zm220 220h160v-160H400v160Zm0 220h160v-160H400v160ZM180-400h160v-160H180v160Zm440 0h160v-160H620v160ZM180-180h160v-160H180v160Zm440 0h160v-160H620v160Z\"/>\n",
              "  </svg>\n",
              "    </button>\n",
              "\n",
              "  <style>\n",
              "    .colab-df-container {\n",
              "      display:flex;\n",
              "      gap: 12px;\n",
              "    }\n",
              "\n",
              "    .colab-df-convert {\n",
              "      background-color: #E8F0FE;\n",
              "      border: none;\n",
              "      border-radius: 50%;\n",
              "      cursor: pointer;\n",
              "      display: none;\n",
              "      fill: #1967D2;\n",
              "      height: 32px;\n",
              "      padding: 0 0 0 0;\n",
              "      width: 32px;\n",
              "    }\n",
              "\n",
              "    .colab-df-convert:hover {\n",
              "      background-color: #E2EBFA;\n",
              "      box-shadow: 0px 1px 2px rgba(60, 64, 67, 0.3), 0px 1px 3px 1px rgba(60, 64, 67, 0.15);\n",
              "      fill: #174EA6;\n",
              "    }\n",
              "\n",
              "    .colab-df-buttons div {\n",
              "      margin-bottom: 4px;\n",
              "    }\n",
              "\n",
              "    [theme=dark] .colab-df-convert {\n",
              "      background-color: #3B4455;\n",
              "      fill: #D2E3FC;\n",
              "    }\n",
              "\n",
              "    [theme=dark] .colab-df-convert:hover {\n",
              "      background-color: #434B5C;\n",
              "      box-shadow: 0px 1px 3px 1px rgba(0, 0, 0, 0.15);\n",
              "      filter: drop-shadow(0px 1px 2px rgba(0, 0, 0, 0.3));\n",
              "      fill: #FFFFFF;\n",
              "    }\n",
              "  </style>\n",
              "\n",
              "    <script>\n",
              "      const buttonEl =\n",
              "        document.querySelector('#df-2166b7e4-02d9-428a-9ceb-bdcac558c543 button.colab-df-convert');\n",
              "      buttonEl.style.display =\n",
              "        google.colab.kernel.accessAllowed ? 'block' : 'none';\n",
              "\n",
              "      async function convertToInteractive(key) {\n",
              "        const element = document.querySelector('#df-2166b7e4-02d9-428a-9ceb-bdcac558c543');\n",
              "        const dataTable =\n",
              "          await google.colab.kernel.invokeFunction('convertToInteractive',\n",
              "                                                    [key], {});\n",
              "        if (!dataTable) return;\n",
              "\n",
              "        const docLinkHtml = 'Like what you see? Visit the ' +\n",
              "          '<a target=\"_blank\" href=https://colab.research.google.com/notebooks/data_table.ipynb>data table notebook</a>'\n",
              "          + ' to learn more about interactive tables.';\n",
              "        element.innerHTML = '';\n",
              "        dataTable['output_type'] = 'display_data';\n",
              "        await google.colab.output.renderOutput(dataTable, element);\n",
              "        const docLink = document.createElement('div');\n",
              "        docLink.innerHTML = docLinkHtml;\n",
              "        element.appendChild(docLink);\n",
              "      }\n",
              "    </script>\n",
              "  </div>\n",
              "\n",
              "\n",
              "<div id=\"df-4301f00f-1507-4247-b10f-8f32f63ec01b\">\n",
              "  <button class=\"colab-df-quickchart\" onclick=\"quickchart('df-4301f00f-1507-4247-b10f-8f32f63ec01b')\"\n",
              "            title=\"Suggest charts\"\n",
              "            style=\"display:none;\">\n",
              "\n",
              "<svg xmlns=\"http://www.w3.org/2000/svg\" height=\"24px\"viewBox=\"0 0 24 24\"\n",
              "     width=\"24px\">\n",
              "    <g>\n",
              "        <path d=\"M19 3H5c-1.1 0-2 .9-2 2v14c0 1.1.9 2 2 2h14c1.1 0 2-.9 2-2V5c0-1.1-.9-2-2-2zM9 17H7v-7h2v7zm4 0h-2V7h2v10zm4 0h-2v-4h2v4z\"/>\n",
              "    </g>\n",
              "</svg>\n",
              "  </button>\n",
              "\n",
              "<style>\n",
              "  .colab-df-quickchart {\n",
              "      --bg-color: #E8F0FE;\n",
              "      --fill-color: #1967D2;\n",
              "      --hover-bg-color: #E2EBFA;\n",
              "      --hover-fill-color: #174EA6;\n",
              "      --disabled-fill-color: #AAA;\n",
              "      --disabled-bg-color: #DDD;\n",
              "  }\n",
              "\n",
              "  [theme=dark] .colab-df-quickchart {\n",
              "      --bg-color: #3B4455;\n",
              "      --fill-color: #D2E3FC;\n",
              "      --hover-bg-color: #434B5C;\n",
              "      --hover-fill-color: #FFFFFF;\n",
              "      --disabled-bg-color: #3B4455;\n",
              "      --disabled-fill-color: #666;\n",
              "  }\n",
              "\n",
              "  .colab-df-quickchart {\n",
              "    background-color: var(--bg-color);\n",
              "    border: none;\n",
              "    border-radius: 50%;\n",
              "    cursor: pointer;\n",
              "    display: none;\n",
              "    fill: var(--fill-color);\n",
              "    height: 32px;\n",
              "    padding: 0;\n",
              "    width: 32px;\n",
              "  }\n",
              "\n",
              "  .colab-df-quickchart:hover {\n",
              "    background-color: var(--hover-bg-color);\n",
              "    box-shadow: 0 1px 2px rgba(60, 64, 67, 0.3), 0 1px 3px 1px rgba(60, 64, 67, 0.15);\n",
              "    fill: var(--button-hover-fill-color);\n",
              "  }\n",
              "\n",
              "  .colab-df-quickchart-complete:disabled,\n",
              "  .colab-df-quickchart-complete:disabled:hover {\n",
              "    background-color: var(--disabled-bg-color);\n",
              "    fill: var(--disabled-fill-color);\n",
              "    box-shadow: none;\n",
              "  }\n",
              "\n",
              "  .colab-df-spinner {\n",
              "    border: 2px solid var(--fill-color);\n",
              "    border-color: transparent;\n",
              "    border-bottom-color: var(--fill-color);\n",
              "    animation:\n",
              "      spin 1s steps(1) infinite;\n",
              "  }\n",
              "\n",
              "  @keyframes spin {\n",
              "    0% {\n",
              "      border-color: transparent;\n",
              "      border-bottom-color: var(--fill-color);\n",
              "      border-left-color: var(--fill-color);\n",
              "    }\n",
              "    20% {\n",
              "      border-color: transparent;\n",
              "      border-left-color: var(--fill-color);\n",
              "      border-top-color: var(--fill-color);\n",
              "    }\n",
              "    30% {\n",
              "      border-color: transparent;\n",
              "      border-left-color: var(--fill-color);\n",
              "      border-top-color: var(--fill-color);\n",
              "      border-right-color: var(--fill-color);\n",
              "    }\n",
              "    40% {\n",
              "      border-color: transparent;\n",
              "      border-right-color: var(--fill-color);\n",
              "      border-top-color: var(--fill-color);\n",
              "    }\n",
              "    60% {\n",
              "      border-color: transparent;\n",
              "      border-right-color: var(--fill-color);\n",
              "    }\n",
              "    80% {\n",
              "      border-color: transparent;\n",
              "      border-right-color: var(--fill-color);\n",
              "      border-bottom-color: var(--fill-color);\n",
              "    }\n",
              "    90% {\n",
              "      border-color: transparent;\n",
              "      border-bottom-color: var(--fill-color);\n",
              "    }\n",
              "  }\n",
              "</style>\n",
              "\n",
              "  <script>\n",
              "    async function quickchart(key) {\n",
              "      const quickchartButtonEl =\n",
              "        document.querySelector('#' + key + ' button');\n",
              "      quickchartButtonEl.disabled = true;  // To prevent multiple clicks.\n",
              "      quickchartButtonEl.classList.add('colab-df-spinner');\n",
              "      try {\n",
              "        const charts = await google.colab.kernel.invokeFunction(\n",
              "            'suggestCharts', [key], {});\n",
              "      } catch (error) {\n",
              "        console.error('Error during call to suggestCharts:', error);\n",
              "      }\n",
              "      quickchartButtonEl.classList.remove('colab-df-spinner');\n",
              "      quickchartButtonEl.classList.add('colab-df-quickchart-complete');\n",
              "    }\n",
              "    (() => {\n",
              "      let quickchartButtonEl =\n",
              "        document.querySelector('#df-4301f00f-1507-4247-b10f-8f32f63ec01b button');\n",
              "      quickchartButtonEl.style.display =\n",
              "        google.colab.kernel.accessAllowed ? 'block' : 'none';\n",
              "    })();\n",
              "  </script>\n",
              "</div>\n",
              "\n",
              "    </div>\n",
              "  </div>\n"
            ],
            "application/vnd.google.colaboratory.intrinsic+json": {
              "type": "dataframe",
              "variable_name": "df",
              "summary": "{\n  \"name\": \"df\",\n  \"rows\": 5938,\n  \"fields\": [\n    {\n      \"column\": \"TranslatedRecipeName\",\n      \"properties\": {\n        \"dtype\": \"string\",\n        \"num_unique_values\": 5928,\n        \"samples\": [\n          \"Moong Dal Methi Ki Sabzi (Recipe in Hindi)\",\n          \"Corn And Bell Pepper Sandwich Recipe\",\n          \"Savoury Yogurt Parfait Recipe\"\n        ],\n        \"semantic_type\": \"\",\n        \"description\": \"\"\n      }\n    },\n    {\n      \"column\": \"TranslatedIngredients\",\n      \"properties\": {\n        \"dtype\": \"string\",\n        \"num_unique_values\": 5934,\n        \"samples\": [\n          \"1/2 cup Cranberries,1 tablespoon Brown Sugar (Demerara Sugar),1 teaspoon Baking powder,1 tablespoon Cranberries,1-1/2 cups Whole Wheat Flour,1 teaspoon Vanilla Extract,3/4 cup Coconut Sugar,1 tablespoon Lemon zest,1/2 cup Buttermilk,2 Whole Eggs - or 2 flax eggs,1 tablespoon Corn flakes - or meuseli\",\n          \"Salt - as required,Sunflower Oil - as required,1 Green Chilli,1 teaspoon Cumin seeds (Jeera),Coriander (Dhania) Leaves - small bunch,1 Onion,1/2 cup Chana dal (Bengal Gram Dal),1/2 teaspoon Red Chilli powder,6 cloves Garlic\",\n          \"Salt - as required,2 sprig Coriander (Dhania) Leaves - finely chopped,1 inch Ginger - chopped,1/2 teaspoon Coriander Powder (Dhania),1 tablespoon Kasuri Methi (Dried Fenugreek Leaves),3 Papad,1/2 cup Curd (Dahi / Yogurt) - whisked,1 Green Chilli - chopped,1/2 teaspoon Red Chilli powder,1 tablespoon Ghee,1/4 teaspoon Asafoetida (hing),3 cloves Garlic,1/2 teaspoon Cumin (Jeera) seeds,1/4 teaspoon Turmeric powder (Haldi),2 Tomato - pureed\"\n        ],\n        \"semantic_type\": \"\",\n        \"description\": \"\"\n      }\n    },\n    {\n      \"column\": \"TotalTimeInMins\",\n      \"properties\": {\n        \"dtype\": \"number\",\n        \"std\": 86,\n        \"min\": 0,\n        \"max\": 2925,\n        \"num_unique_values\": 161,\n        \"samples\": [\n          400,\n          62,\n          215\n        ],\n        \"semantic_type\": \"\",\n        \"description\": \"\"\n      }\n    },\n    {\n      \"column\": \"Cuisine\",\n      \"properties\": {\n        \"dtype\": \"category\",\n        \"num_unique_values\": 82,\n        \"samples\": [\n          \"Goan Recipes\",\n          \"Indian\",\n          \"Middle Eastern\"\n        ],\n        \"semantic_type\": \"\",\n        \"description\": \"\"\n      }\n    },\n    {\n      \"column\": \"TranslatedInstructions\",\n      \"properties\": {\n        \"dtype\": \"string\",\n        \"num_unique_values\": 5937,\n        \"samples\": [\n          \"To begin making the Szechuan Style Chinese Samosa recipe, first prep all the ingredients and keep them ready.\\nWe will make the dough first and then fill them and proceed to deep fry the Chinese veg samosa in pure olive oil.To begin making the dough for the samosa crust, combine all the ingredients for the dough in a large mixing bowl.\\nRub the olive oil into the flour till you see coarse crumbs.Add  little water at a time and knead to make a firm and yet smooth dough.\\nCover the dough and keep it aside to rest while we prepare the Chinese filling.For the stuffing, heat olive oil in a wok or a heavy bottomed pan.\\nAdd the ginger, garlic, green chilies and spring onions and stir fry for a few seconds until you can smell the aromas coming through.Add the carrots, beans, capsicum and cabbage and stir fry on high heat until it is cooked through.\\nThe vegetables will be cooked yet firm.Once done, add the cooked noodles, that are roughly chopped, the chili sauce, salt and pepper.\\nStir together until the filling is combined with all the ingredients.\\nCheck the taste and adjust the salt and chili.Turn off the heat and keep the filling aside to cool.Preheat the oil for deep frying the samosaDivide the samosa dough into 12 equal portions.\\nDust it in a little flour and roll into a small square.Place a small portion of the Chinese filling into the rolled out dough.\\nAt this stage you can fold it like a wonton by bringing the edges together.\\nSeal the edges by pinching them well, so it gives a shape and stands out.Proceed the same way to make similar Szechuan Style Chinese Samosas.\\nPlace the Chinese Samosas in oil and deep fry them until crisp and golden brown.Once done, remove the Szechuan Style Chinese Samosas from the oven and serve.Serve the Veg Chinese Samosa along with a Schezwan sauce as an appetizer or a evening tea time snack for parties.\\n\",\n          \"To begin making the Mixed Vegetable Noodle Cutlet Recipe, Cook your instant noodles without the tastemaker according the instructions on the packet.\\n Once the noodles are cooked, drain any extra water and set the noodles aside to cool.In a large bowl, mash the boiled potato and mix with grated carrots and capsicum.\\nAdd, the cooked noodles and all the remaining cutlet ingredients except the crumbs and the oat bran and combine well.\\nCheck the salt and spices and adjust to suit your taste.Divide the cutlet mixture into equal parts and shape them into round discs of about an inch thickness.Combine the breadcrumbs and oat bran in a platter.\\nDip the vegetable noodle cutlet on the crumb-bran mixture.\\nHeat a skillet on medium heat and place the shaped noodle cutlets on them.\\nDrizzle a bit of oil over the cutlets and pan fry them until brown and crisp on both sides.Serve the Mixed Vegetable Noodle Cutlet Recipe as an appetizer, a tea time snack or even into the snack box for kids.\\nServe it along with a classic tomato ketchup or even a Yogurt Dip.\\n\",\n          \"To begin making the Gajar Shalgam Ka Paani Wala Achar recipe, cut vegetables into thick slices and wash it nicely.Add 1-1/2 cups of water and the vegetables in a pressure cooker and pressure cook for 1 whistle.Turn off the heat and allow the steam to release naturally.Once the steam is completely released, transfer the vegetables along with the water into a pan and keep aside.In a separate pan, dry roast mustard seeds, cumin and fennel along with some fenugreek seeds and crush them partially using a mortar pestle.Add vinegar, salt and the crushed spices to the cooked turnip and carrot and stir nicely.\\nGive a gentle boil and turn off the heat.Allow the pickle to cool down completely and later transfer it in a jar or any container and store in fridge.Serve Gajar Shalgam Ka Paani Wala Achar with Whole Wheat Lachha Paratha, Gajar Paratha or any other stuffed paratha for breakfast or dinner.\"\n        ],\n        \"semantic_type\": \"\",\n        \"description\": \"\"\n      }\n    },\n    {\n      \"column\": \"URL\",\n      \"properties\": {\n        \"dtype\": \"string\",\n        \"num_unique_values\": 5938,\n        \"samples\": [\n          \"https://www.archanaskitchen.com/spicy-thai-style-tofu-with-quinoa-recipe\",\n          \"https://www.archanaskitchen.com/mango-pickle-andhra-avakaya-recipe\",\n          \"https://www.archanaskitchen.com/chicken-65-recipe\"\n        ],\n        \"semantic_type\": \"\",\n        \"description\": \"\"\n      }\n    },\n    {\n      \"column\": \"Cleaned-Ingredients\",\n      \"properties\": {\n        \"dtype\": \"string\",\n        \"num_unique_values\": 5932,\n        \"samples\": [\n          \"coconut sugar,baking powder,wheat flour,cranberries,vanilla,lemon,brown sugar (demerara sugar),buttermilk,eggs flax eggs,corn flakes meuseli\",\n          \"coriander (dhania),salt,green chilli,red chilli powder,cloves garlic,onion,cumin seeds (jeera),chana dal (bengal gram dal),sunflower oil\",\n          \"salt,ginger,arhar dal (split toor dal),tamarind water,mustard seeds,brinjal (baingan eggsplant),coconut,jaggery,curry leaves,white urad dal (split),coriander (dhania) seeds,dry red chillies,black pepper powder,boiled peanuts,turmeric powder,chana dal (bengal gram dal),sunflower oil\"\n        ],\n        \"semantic_type\": \"\",\n        \"description\": \"\"\n      }\n    },\n    {\n      \"column\": \"image-url\",\n      \"properties\": {\n        \"dtype\": \"string\",\n        \"num_unique_values\": 5653,\n        \"samples\": [\n          \"https://www.archanaskitchen.com/images/archanaskitchen/1-Author/Smitha_Kalluraya/menthe-hittu-recipe-roasted-fenugreek-powder.jpg\",\n          \"https://www.archanaskitchen.com/images/archanaskitchen/1-Author/Lubna_Karim/BesanOats_Ladoo.jpg\",\n          \"https://www.archanaskitchen.com/images/archanaskitchen/1-Author/Roop/Dalia_Khichdi_Recipe_Broken_Wheat_Khichdi-1_preview.jpeg\"\n        ],\n        \"semantic_type\": \"\",\n        \"description\": \"\"\n      }\n    },\n    {\n      \"column\": \"Ingredient-count\",\n      \"properties\": {\n        \"dtype\": \"number\",\n        \"std\": 4,\n        \"min\": 3,\n        \"max\": 34,\n        \"num_unique_values\": 29,\n        \"samples\": [\n          32,\n          24,\n          20\n        ],\n        \"semantic_type\": \"\",\n        \"description\": \"\"\n      }\n    }\n  ]\n}"
            }
          },
          "metadata": {},
          "execution_count": 9
        }
      ]
    },
    {
      "cell_type": "code",
      "source": [
        "df.TranslatedInstructions[0]"
      ],
      "metadata": {
        "colab": {
          "base_uri": "https://localhost:8080/",
          "height": 109
        },
        "id": "GGbbOpTz6ugk",
        "outputId": "74c71df2-5085-4a1f-b8aa-821f046f8338"
      },
      "execution_count": 10,
      "outputs": [
        {
          "output_type": "execute_result",
          "data": {
            "text/plain": [
              "'To begin making the Masala Karela Recipe,de-seed the karela and slice.\\nDo not remove the skin as the skin has all the nutrients.\\nAdd the karela to the pressure cooker with 3 tablespoon of water, salt and turmeric powder and pressure cook for three whistles.\\nRelease the pressure immediately and open the lids.\\nKeep aside.Heat oil in a heavy bottomed pan or a kadhai.\\nAdd cumin seeds and let it sizzle.Once the cumin seeds have sizzled, add onions and saute them till it turns golden brown in color.Add the karela, red chilli powder, amchur powder, coriander powder and besan.\\nStir to combine the masalas into the karela.Drizzle a little extra oil on the top and mix again.\\nCover the pan and simmer Masala Karela stirring occasionally until everything comes together well.\\nTurn off the heat.Transfer Masala Karela into a serving bowl and serve.Serve Masala Karela along with Panchmel Dal and Phulka for a weekday meal with your family.\\n'"
            ],
            "application/vnd.google.colaboratory.intrinsic+json": {
              "type": "string"
            }
          },
          "metadata": {},
          "execution_count": 10
        }
      ]
    },
    {
      "cell_type": "code",
      "source": [
        "import re"
      ],
      "metadata": {
        "id": "50khZrlc7BIH"
      },
      "execution_count": 11,
      "outputs": []
    },
    {
      "cell_type": "code",
      "source": [
        "text = 'To begin making the Masala Karela Recipe,de-seed the karela and slice.\\nDo not remove the skin as the skin has all the nutrients.\\nAdd the karela to the pressure cooker with 3 tablespoon of water, salt and turmeric powder and pressure cook for three whistles.\\nRelease the pressure immediately and open the lids.\\nKeep aside.Heat oil in a heavy bottomed pan or a kadhai.\\nAdd cumin seeds and let it sizzle.Once the cumin seeds have sizzled, add onions and saute them till it turns golden brown in color.Add the karela, red chilli powder, amchur powder, coriander powder and besan.\\nStir to combine the masalas into the karela.Drizzle a little extra oil on the top and mix again.\\nCover the pan and simmer Masala Karela stirring occasionally until everything comes together well.\\nTurn off the heat.Transfer Masala Karela into a serving bowl and serve.Serve Masala Karela along with Panchmel Dal and Phulka for a weekday meal with your family.\\n'"
      ],
      "metadata": {
        "id": "ukFvsn7v7DsC"
      },
      "execution_count": 12,
      "outputs": []
    },
    {
      "cell_type": "code",
      "source": [
        "re.sub(r'[^\\w\\s]',\" \",text,flags = re.MULTILINE)"
      ],
      "metadata": {
        "colab": {
          "base_uri": "https://localhost:8080/",
          "height": 109
        },
        "id": "sraUQheC7gh4",
        "outputId": "943d0f32-b39a-4848-d3b1-deffa8974b76"
      },
      "execution_count": 16,
      "outputs": [
        {
          "output_type": "execute_result",
          "data": {
            "text/plain": [
              "'To begin making the Masala Karela Recipe de seed the karela and slice \\nDo not remove the skin as the skin has all the nutrients \\nAdd the karela to the pressure cooker with 3 tablespoon of water  salt and turmeric powder and pressure cook for three whistles \\nRelease the pressure immediately and open the lids \\nKeep aside Heat oil in a heavy bottomed pan or a kadhai \\nAdd cumin seeds and let it sizzle Once the cumin seeds have sizzled  add onions and saute them till it turns golden brown in color Add the karela  red chilli powder  amchur powder  coriander powder and besan \\nStir to combine the masalas into the karela Drizzle a little extra oil on the top and mix again \\nCover the pan and simmer Masala Karela stirring occasionally until everything comes together well \\nTurn off the heat Transfer Masala Karela into a serving bowl and serve Serve Masala Karela along with Panchmel Dal and Phulka for a weekday meal with your family \\n'"
            ],
            "application/vnd.google.colaboratory.intrinsic+json": {
              "type": "string"
            }
          },
          "metadata": {},
          "execution_count": 16
        }
      ]
    },
    {
      "cell_type": "code",
      "source": [
        "re.sub(\"[ \\n]+\",\"\",text,flags = re.MULTILINE).lower"
      ],
      "metadata": {
        "colab": {
          "base_uri": "https://localhost:8080/"
        },
        "id": "kyKtkdSE703Q",
        "outputId": "a5e75578-b3de-43fd-82f0-18dc88900ca8"
      },
      "execution_count": 18,
      "outputs": [
        {
          "output_type": "execute_result",
          "data": {
            "text/plain": [
              "<function str.lower()>"
            ]
          },
          "metadata": {},
          "execution_count": 18
        }
      ]
    },
    {
      "cell_type": "code",
      "source": [
        "def preprocess(text):\n",
        "  text = re.sub(r'[^\\w\\s]',\" \",text)\n",
        "  text = re.sub(\"[ \\n]+\",\"\",text)\n",
        "  return text.strip().lower()\n"
      ],
      "metadata": {
        "id": "zKeU2IVC8x2a"
      },
      "execution_count": 19,
      "outputs": []
    },
    {
      "cell_type": "code",
      "source": [
        "preprocess(text)"
      ],
      "metadata": {
        "colab": {
          "base_uri": "https://localhost:8080/",
          "height": 90
        },
        "id": "zpMTahRQ9LN2",
        "outputId": "a097559f-7222-410f-86ad-2b07e113358b"
      },
      "execution_count": 20,
      "outputs": [
        {
          "output_type": "execute_result",
          "data": {
            "text/plain": [
              "'tobeginmakingthemasalakarelarecipedeseedthekarelaandslicedonotremovetheskinastheskinhasallthenutrientsaddthekarelatothepressurecookerwith3tablespoonofwatersaltandturmericpowderandpressurecookforthreewhistlesreleasethepressureimmediatelyandopenthelidskeepasideheatoilinaheavybottomedpanorakadhaiaddcuminseedsandletitsizzleoncethecuminseedshavesizzledaddonionsandsautethemtillitturnsgoldenbrownincoloraddthekarelaredchillipowderamchurpowdercorianderpowderandbesanstirtocombinethemasalasintothekareladrizzlealittleextraoilonthetopandmixagaincoverthepanandsimmermasalakarelastirringoccasionallyuntileverythingcomestogetherwellturnofftheheattransfermasalakarelaintoaservingbowlandserveservemasalakarelaalongwithpanchmeldalandphulkaforaweekdaymealwithyourfamily'"
            ],
            "application/vnd.google.colaboratory.intrinsic+json": {
              "type": "string"
            }
          },
          "metadata": {},
          "execution_count": 20
        }
      ]
    },
    {
      "cell_type": "code",
      "source": [
        "df.TranslatedInstructions = df.TranslatedInstructions.map(preprocess)"
      ],
      "metadata": {
        "id": "JVMpVs4p9M6t"
      },
      "execution_count": 21,
      "outputs": []
    },
    {
      "cell_type": "code",
      "source": [
        "df.TranslatedInstructions[0]"
      ],
      "metadata": {
        "colab": {
          "base_uri": "https://localhost:8080/",
          "height": 90
        },
        "id": "CqQj3YDb9gEg",
        "outputId": "2da3be4d-9188-4060-f99b-dab0cd3c8cf7"
      },
      "execution_count": 22,
      "outputs": [
        {
          "output_type": "execute_result",
          "data": {
            "text/plain": [
              "'tobeginmakingthemasalakarelarecipedeseedthekarelaandslicedonotremovetheskinastheskinhasallthenutrientsaddthekarelatothepressurecookerwith3tablespoonofwatersaltandturmericpowderandpressurecookforthreewhistlesreleasethepressureimmediatelyandopenthelidskeepasideheatoilinaheavybottomedpanorakadhaiaddcuminseedsandletitsizzleoncethecuminseedshavesizzledaddonionsandsautethemtillitturnsgoldenbrownincoloraddthekarelaredchillipowderamchurpowdercorianderpowderandbesanstirtocombinethemasalasintothekareladrizzlealittleextraoilonthetopandmixagaincoverthepanandsimmermasalakarelastirringoccasionallyuntileverythingcomestogetherwellturnofftheheattransfermasalakarelaintoaservingbowlandserveservemasalakarelaalongwithpanchmeldalandphulkaforaweekdaymealwithyourfamily'"
            ],
            "application/vnd.google.colaboratory.intrinsic+json": {
              "type": "string"
            }
          },
          "metadata": {},
          "execution_count": 22
        }
      ]
    },
    {
      "cell_type": "code",
      "source": [
        "df.TranslatedInstructions[10]"
      ],
      "metadata": {
        "colab": {
          "base_uri": "https://localhost:8080/",
          "height": 127
        },
        "id": "v0YIfNm09ib8",
        "outputId": "dc82d7a0-98f3-431c-cd7f-e777b865ae42"
      },
      "execution_count": 23,
      "outputs": [
        {
          "output_type": "execute_result",
          "data": {
            "text/plain": [
              "'tobeginmakingthehomemadebakedbeansrecipewefirsthavetosoakthebeansovernightforabout8hoursinwaterwealsohavetomakethecookedtomatopureeclickheretoseetherecipeofhowtomaketomatopureeathomeoncethebeansaresoakedwellournextstepistocookthemilikeusingthepressurecookermethodtocookthebeansplacethebeansinthepressureplacetheweightoncoverthepanandcookitalongwith212cupsofwaterafteryouheat4to5whistlesturntheheattolowandcookforanother15minutesturnofftheheatandallowthepressurecookertoreleaseitspressurenaturallythiswouldtakeanother10minutesthebeanscontinuetocookunderthepressureevenwhenitisturnedoffoncethepressureisreleasedopenthecookeranddrainouttheexcessliquidsyoustorethisliquidanduseitinthevegetablestockorrisottooncethebeansarecookedournextstepistospiceituptomakethebakedbeansheatoilinasaucepanonmediumheataddintheonionsandgarlicandgiveitalightsautéuntiltheonionsaretenderaddthetomatoeshoneyandthespicesandgiveitastiraddinthecookeddrainedbeansintothetomatogravystirfrythebeansuntilthebeansgetwellcoatedwiththetomatoescoverthepanturntheheattolowandsimmerthebeansforabout30minutesuntilyounoticedthebeansarewellcoatedwiththespicesandtomatoescheckthesaltandseasoninglevelsandadjusttosuityourtasteyoucanoptionallygarnishthehomemadebakedbeanswithcorianderleavesandserveitalongwithtoastorpotatocakesrecipe'"
            ],
            "application/vnd.google.colaboratory.intrinsic+json": {
              "type": "string"
            }
          },
          "metadata": {},
          "execution_count": 23
        }
      ]
    },
    {
      "cell_type": "code",
      "source": [
        "# it is unsupervised training"
      ],
      "metadata": {
        "id": "9c19GhlE9l6I"
      },
      "execution_count": 25,
      "outputs": []
    },
    {
      "cell_type": "code",
      "source": [
        "df.to_csv(\"food_receipes.txt\",columns = [\"TranslatedInstructions\"],index = False,header = None)"
      ],
      "metadata": {
        "id": "s-zB3Zj6BByU"
      },
      "execution_count": 26,
      "outputs": []
    },
    {
      "cell_type": "code",
      "source": [
        "!pip install fasttext"
      ],
      "metadata": {
        "colab": {
          "base_uri": "https://localhost:8080/"
        },
        "id": "b6kvQJ_eBvBW",
        "outputId": "e77b0ca0-852b-452c-969e-69a563d223dc"
      },
      "execution_count": 29,
      "outputs": [
        {
          "output_type": "stream",
          "name": "stdout",
          "text": [
            "Collecting fasttext\n",
            "  Downloading fasttext-0.9.2.tar.gz (68 kB)\n",
            "\u001b[2K     \u001b[90m━━━━━━━━━━━━━━━━━━━━━━━━━━━━━━━━━━━━━━━━\u001b[0m \u001b[32m68.8/68.8 kB\u001b[0m \u001b[31m1.1 MB/s\u001b[0m eta \u001b[36m0:00:00\u001b[0m\n",
            "\u001b[?25h  Preparing metadata (setup.py) ... \u001b[?25l\u001b[?25hdone\n",
            "Collecting pybind11>=2.2 (from fasttext)\n",
            "  Using cached pybind11-2.12.0-py3-none-any.whl (234 kB)\n",
            "Requirement already satisfied: setuptools>=0.7.0 in /usr/local/lib/python3.10/dist-packages (from fasttext) (67.7.2)\n",
            "Requirement already satisfied: numpy in /usr/local/lib/python3.10/dist-packages (from fasttext) (1.25.2)\n",
            "Building wheels for collected packages: fasttext\n",
            "  Building wheel for fasttext (setup.py) ... \u001b[?25l\u001b[?25hdone\n",
            "  Created wheel for fasttext: filename=fasttext-0.9.2-cp310-cp310-linux_x86_64.whl size=4227144 sha256=76e347a49096453100a18a3746705d1002d64436c56b22505064a836c7e63bd4\n",
            "  Stored in directory: /root/.cache/pip/wheels/a5/13/75/f811c84a8ab36eedbaef977a6a58a98990e8e0f1967f98f394\n",
            "Successfully built fasttext\n",
            "Installing collected packages: pybind11, fasttext\n",
            "Successfully installed fasttext-0.9.2 pybind11-2.12.0\n"
          ]
        }
      ]
    },
    {
      "cell_type": "code",
      "source": [
        "import fasttext"
      ],
      "metadata": {
        "id": "J4UB4QWUBsMY"
      },
      "execution_count": 30,
      "outputs": []
    },
    {
      "cell_type": "code",
      "source": [
        "model = fasttext.train_unsupervised(\"food_receipes.txt\")"
      ],
      "metadata": {
        "id": "SCvkXlFfBQDd"
      },
      "execution_count": 31,
      "outputs": []
    },
    {
      "cell_type": "code",
      "source": [
        "model.get_nearest_neighbors(\"good\")"
      ],
      "metadata": {
        "colab": {
          "base_uri": "https://localhost:8080/"
        },
        "id": "-OeQV4gzBp_A",
        "outputId": "a9ea4f32-d75b-4530-b78f-4ef8bcb796d6"
      },
      "execution_count": 33,
      "outputs": [
        {
          "output_type": "execute_result",
          "data": {
            "text/plain": [
              "[(0.018719928339123726, '</s>')]"
            ]
          },
          "metadata": {},
          "execution_count": 33
        }
      ]
    },
    {
      "cell_type": "code",
      "source": [
        "model.get_word_vector(\"good\")"
      ],
      "metadata": {
        "colab": {
          "base_uri": "https://localhost:8080/"
        },
        "id": "_6I4nw0OCSWl",
        "outputId": "1c2f740b-3244-45c8-994d-0d9bee388c3d"
      },
      "execution_count": 34,
      "outputs": [
        {
          "output_type": "execute_result",
          "data": {
            "text/plain": [
              "array([-8.95075966e-04, -5.22350019e-04,  5.52717131e-04,  8.59577965e-04,\n",
              "       -2.91351782e-04, -2.43177987e-04, -1.10951907e-04,  8.52111087e-04,\n",
              "       -3.41355772e-04,  2.08818703e-04,  1.58580282e-04, -9.75944276e-04,\n",
              "       -4.03855694e-04,  4.52462962e-04, -9.33069678e-04, -3.31477677e-05,\n",
              "        5.65792143e-04, -8.22987407e-04,  4.61977266e-04, -1.29113992e-04,\n",
              "        7.75241526e-04, -6.09865412e-04, -6.09349634e-04, -2.40041205e-04,\n",
              "        9.62773745e-04, -6.12921955e-04,  7.61481468e-04, -7.47276426e-05,\n",
              "        2.73497077e-04,  2.96831713e-04, -3.71667149e-04, -5.19962923e-04,\n",
              "       -3.72005510e-04, -3.69522400e-04, -4.05827595e-04, -7.18497147e-04,\n",
              "        2.27957826e-05, -9.63550352e-04, -4.32934612e-05, -2.86930619e-04,\n",
              "       -1.10301495e-04, -4.14677517e-04,  1.43454061e-04,  6.38857891e-04,\n",
              "        7.82746647e-04, -9.33320669e-04, -1.30414137e-05, -5.62883797e-04,\n",
              "       -4.71863168e-04,  3.28794908e-04, -8.79413565e-04, -3.37806850e-05,\n",
              "       -1.78564500e-04, -6.05007808e-04, -8.40852619e-04, -7.62203301e-04,\n",
              "        5.47322154e-04,  3.65807675e-04, -6.51373703e-04,  2.45658826e-04,\n",
              "       -3.33806383e-05,  6.88299944e-04, -7.06540071e-04,  5.03984687e-04,\n",
              "       -1.43962330e-04, -3.66643741e-04, -9.11646748e-06, -7.96970911e-04,\n",
              "       -5.70547010e-04, -8.68786068e-04,  7.10566354e-04, -9.96878603e-04,\n",
              "       -2.07939753e-04, -8.19069741e-04, -5.91567077e-04,  9.14253978e-05,\n",
              "       -1.27307416e-04,  8.35003506e-04,  2.83898495e-04,  2.08806945e-04,\n",
              "       -1.01214879e-04, -6.43248379e-04, -7.26251106e-04, -8.31456215e-04,\n",
              "        9.68354929e-04,  2.75703293e-04, -3.26135429e-04, -7.28920219e-04,\n",
              "        6.45959110e-04, -5.98588260e-04, -9.72866197e-04,  3.03044162e-05,\n",
              "       -7.81819806e-04, -4.32175642e-04,  6.86142710e-04, -1.93557295e-04,\n",
              "        5.07123012e-04,  8.08857381e-04, -2.34563209e-04,  8.30733683e-04],\n",
              "      dtype=float32)"
            ]
          },
          "metadata": {},
          "execution_count": 34
        }
      ]
    },
    {
      "cell_type": "code",
      "source": [
        "model.get_word_vector(\"good\").shape"
      ],
      "metadata": {
        "colab": {
          "base_uri": "https://localhost:8080/"
        },
        "id": "cc-j4bVLCvg8",
        "outputId": "ba53bcac-ae1f-44bb-c262-5281201aa8b9"
      },
      "execution_count": 35,
      "outputs": [
        {
          "output_type": "execute_result",
          "data": {
            "text/plain": [
              "(100,)"
            ]
          },
          "metadata": {},
          "execution_count": 35
        }
      ]
    },
    {
      "cell_type": "code",
      "source": [],
      "metadata": {
        "id": "LRfyVK-BCzDo"
      },
      "execution_count": null,
      "outputs": []
    }
  ]
}