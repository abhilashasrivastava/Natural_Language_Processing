{
 "cells": [
  {
   "cell_type": "code",
   "execution_count": 55,
   "id": "495703a8-a13f-4e2f-95de-ff3c8c83de97",
   "metadata": {},
   "outputs": [],
   "source": [
    "import pandas as pd\n",
    "import numpy as np"
   ]
  },
  {
   "cell_type": "code",
   "execution_count": 56,
   "id": "51750a9c-ef81-4f77-bed9-04aa7209fc44",
   "metadata": {},
   "outputs": [
    {
     "data": {
      "text/html": [
       "<div>\n",
       "<style scoped>\n",
       "    .dataframe tbody tr th:only-of-type {\n",
       "        vertical-align: middle;\n",
       "    }\n",
       "\n",
       "    .dataframe tbody tr th {\n",
       "        vertical-align: top;\n",
       "    }\n",
       "\n",
       "    .dataframe thead th {\n",
       "        text-align: right;\n",
       "    }\n",
       "</style>\n",
       "<table border=\"1\" class=\"dataframe\">\n",
       "  <thead>\n",
       "    <tr style=\"text-align: right;\">\n",
       "      <th></th>\n",
       "      <th>Category</th>\n",
       "      <th>Message</th>\n",
       "    </tr>\n",
       "  </thead>\n",
       "  <tbody>\n",
       "    <tr>\n",
       "      <th>0</th>\n",
       "      <td>ham</td>\n",
       "      <td>Go until jurong point, crazy.. Available only ...</td>\n",
       "    </tr>\n",
       "    <tr>\n",
       "      <th>1</th>\n",
       "      <td>ham</td>\n",
       "      <td>Ok lar... Joking wif u oni...</td>\n",
       "    </tr>\n",
       "    <tr>\n",
       "      <th>2</th>\n",
       "      <td>spam</td>\n",
       "      <td>Free entry in 2 a wkly comp to win FA Cup fina...</td>\n",
       "    </tr>\n",
       "    <tr>\n",
       "      <th>3</th>\n",
       "      <td>ham</td>\n",
       "      <td>U dun say so early hor... U c already then say...</td>\n",
       "    </tr>\n",
       "    <tr>\n",
       "      <th>4</th>\n",
       "      <td>ham</td>\n",
       "      <td>Nah I don't think he goes to usf, he lives aro...</td>\n",
       "    </tr>\n",
       "  </tbody>\n",
       "</table>\n",
       "</div>"
      ],
      "text/plain": [
       "  Category                                            Message\n",
       "0      ham  Go until jurong point, crazy.. Available only ...\n",
       "1      ham                      Ok lar... Joking wif u oni...\n",
       "2     spam  Free entry in 2 a wkly comp to win FA Cup fina...\n",
       "3      ham  U dun say so early hor... U c already then say...\n",
       "4      ham  Nah I don't think he goes to usf, he lives aro..."
      ]
     },
     "execution_count": 56,
     "metadata": {},
     "output_type": "execute_result"
    }
   ],
   "source": [
    "df = pd.read_csv(\"spam.csv\")\n",
    "df.head()"
   ]
  },
  {
   "cell_type": "code",
   "execution_count": 57,
   "id": "bb80d1fc-59a7-4af3-9be8-9237ab3dbfc6",
   "metadata": {},
   "outputs": [
    {
     "data": {
      "text/plain": [
       "ham     4825\n",
       "spam     747\n",
       "Name: Category, dtype: int64"
      ]
     },
     "execution_count": 57,
     "metadata": {},
     "output_type": "execute_result"
    }
   ],
   "source": [
    "df.Category.value_counts()"
   ]
  },
  {
   "cell_type": "code",
   "execution_count": 58,
   "id": "2b71e04d-b04d-445a-b7dd-c4048d47d239",
   "metadata": {},
   "outputs": [],
   "source": [
    "df['spam'] = df['Category'].apply(lambda x: 1 if x == 'spam' else 0)"
   ]
  },
  {
   "cell_type": "code",
   "execution_count": 59,
   "id": "d75e1e22-428c-4a16-8143-c33cfd5700f5",
   "metadata": {},
   "outputs": [
    {
     "data": {
      "text/html": [
       "<div>\n",
       "<style scoped>\n",
       "    .dataframe tbody tr th:only-of-type {\n",
       "        vertical-align: middle;\n",
       "    }\n",
       "\n",
       "    .dataframe tbody tr th {\n",
       "        vertical-align: top;\n",
       "    }\n",
       "\n",
       "    .dataframe thead th {\n",
       "        text-align: right;\n",
       "    }\n",
       "</style>\n",
       "<table border=\"1\" class=\"dataframe\">\n",
       "  <thead>\n",
       "    <tr style=\"text-align: right;\">\n",
       "      <th></th>\n",
       "      <th>Category</th>\n",
       "      <th>Message</th>\n",
       "      <th>spam</th>\n",
       "    </tr>\n",
       "  </thead>\n",
       "  <tbody>\n",
       "    <tr>\n",
       "      <th>0</th>\n",
       "      <td>ham</td>\n",
       "      <td>Go until jurong point, crazy.. Available only ...</td>\n",
       "      <td>0</td>\n",
       "    </tr>\n",
       "    <tr>\n",
       "      <th>1</th>\n",
       "      <td>ham</td>\n",
       "      <td>Ok lar... Joking wif u oni...</td>\n",
       "      <td>0</td>\n",
       "    </tr>\n",
       "    <tr>\n",
       "      <th>2</th>\n",
       "      <td>spam</td>\n",
       "      <td>Free entry in 2 a wkly comp to win FA Cup fina...</td>\n",
       "      <td>1</td>\n",
       "    </tr>\n",
       "    <tr>\n",
       "      <th>3</th>\n",
       "      <td>ham</td>\n",
       "      <td>U dun say so early hor... U c already then say...</td>\n",
       "      <td>0</td>\n",
       "    </tr>\n",
       "    <tr>\n",
       "      <th>4</th>\n",
       "      <td>ham</td>\n",
       "      <td>Nah I don't think he goes to usf, he lives aro...</td>\n",
       "      <td>0</td>\n",
       "    </tr>\n",
       "  </tbody>\n",
       "</table>\n",
       "</div>"
      ],
      "text/plain": [
       "  Category                                            Message  spam\n",
       "0      ham  Go until jurong point, crazy.. Available only ...     0\n",
       "1      ham                      Ok lar... Joking wif u oni...     0\n",
       "2     spam  Free entry in 2 a wkly comp to win FA Cup fina...     1\n",
       "3      ham  U dun say so early hor... U c already then say...     0\n",
       "4      ham  Nah I don't think he goes to usf, he lives aro...     0"
      ]
     },
     "execution_count": 59,
     "metadata": {},
     "output_type": "execute_result"
    }
   ],
   "source": [
    "df.head()"
   ]
  },
  {
   "cell_type": "code",
   "execution_count": 60,
   "id": "69be1fb9-6d95-41e0-a20b-2b01ce87bd9b",
   "metadata": {},
   "outputs": [
    {
     "data": {
      "text/plain": [
       "(5572, 3)"
      ]
     },
     "execution_count": 60,
     "metadata": {},
     "output_type": "execute_result"
    }
   ],
   "source": [
    "df.shape"
   ]
  },
  {
   "cell_type": "code",
   "execution_count": 61,
   "id": "6cda5adc-d646-49ec-ba74-11cd22e729af",
   "metadata": {},
   "outputs": [],
   "source": [
    "from sklearn.model_selection import train_test_split"
   ]
  },
  {
   "cell_type": "code",
   "execution_count": 62,
   "id": "c08f1be3-72c5-43da-833b-9447725f3f56",
   "metadata": {},
   "outputs": [],
   "source": [
    "X_train, X_test , y_train, y_test = train_test_split(df.Message, df.spam, test_size = 0.2)"
   ]
  },
  {
   "cell_type": "code",
   "execution_count": 63,
   "id": "5a3d06be-0f26-4bc6-ba4a-65cc1d0f4ddc",
   "metadata": {},
   "outputs": [
    {
     "data": {
      "text/plain": [
       "(4457,)"
      ]
     },
     "execution_count": 63,
     "metadata": {},
     "output_type": "execute_result"
    }
   ],
   "source": [
    "X_train.shape"
   ]
  },
  {
   "cell_type": "code",
   "execution_count": 64,
   "id": "7245e773-993e-4302-98e7-a6bc0c270897",
   "metadata": {},
   "outputs": [
    {
     "data": {
      "text/plain": [
       "(1115,)"
      ]
     },
     "execution_count": 64,
     "metadata": {},
     "output_type": "execute_result"
    }
   ],
   "source": [
    "X_test.shape"
   ]
  },
  {
   "cell_type": "code",
   "execution_count": 65,
   "id": "5f20969d-50a1-4cb2-bd7c-d31292abeb66",
   "metadata": {},
   "outputs": [
    {
     "data": {
      "text/plain": [
       "pandas.core.series.Series"
      ]
     },
     "execution_count": 65,
     "metadata": {},
     "output_type": "execute_result"
    }
   ],
   "source": [
    "type(X_train)"
   ]
  },
  {
   "cell_type": "code",
   "execution_count": 66,
   "id": "9ef1c14f-4b09-4279-93f5-1779d15b8ce6",
   "metadata": {},
   "outputs": [
    {
     "data": {
      "text/plain": [
       "105          Umma my life and vava umma love you lot dear\n",
       "534                                       I'll be late...\n",
       "2838                              1's reach home call me.\n",
       "5457                          Arun can u transfr me d amt\n",
       "4619    Nvm... I'm going to wear my sport shoes anyway...\n",
       "Name: Message, dtype: object"
      ]
     },
     "execution_count": 66,
     "metadata": {},
     "output_type": "execute_result"
    }
   ],
   "source": [
    "X_train[0:5]"
   ]
  },
  {
   "cell_type": "code",
   "execution_count": 68,
   "id": "0a46a64d-b157-47c7-9cec-8f0f46b561be",
   "metadata": {},
   "outputs": [
    {
     "data": {
      "text/plain": [
       "105     0\n",
       "534     0\n",
       "2838    0\n",
       "5457    0\n",
       "4619    0\n",
       "Name: spam, dtype: int64"
      ]
     },
     "execution_count": 68,
     "metadata": {},
     "output_type": "execute_result"
    }
   ],
   "source": [
    "y_train[0:5]"
   ]
  },
  {
   "cell_type": "code",
   "execution_count": 69,
   "id": "7fcce185-c730-4711-8ef9-7f756276337e",
   "metadata": {},
   "outputs": [],
   "source": [
    "from sklearn.feature_extraction.text import CountVectorizer"
   ]
  },
  {
   "cell_type": "code",
   "execution_count": 70,
   "id": "1436f2fb-4ccc-4857-8ede-e3ccd753ef40",
   "metadata": {},
   "outputs": [
    {
     "data": {
      "text/plain": [
       "array(['Umma my life and vava umma love you lot dear', \"I'll be late...\",\n",
       "       \"1's reach home call me.\", ..., 'I sent you  &lt;#&gt;  bucks',\n",
       "       'How much it will cost approx . Per month.',\n",
       "       'God bless.get good sleep my dear...i will pray!'], dtype=object)"
      ]
     },
     "execution_count": 70,
     "metadata": {},
     "output_type": "execute_result"
    }
   ],
   "source": [
    "X_train.values #numpy array"
   ]
  },
  {
   "cell_type": "code",
   "execution_count": 71,
   "id": "65bb03ec-3a62-41cc-acdf-4f461d60cacb",
   "metadata": {},
   "outputs": [
    {
     "data": {
      "text/plain": [
       "numpy.ndarray"
      ]
     },
     "execution_count": 71,
     "metadata": {},
     "output_type": "execute_result"
    }
   ],
   "source": [
    "type(X_train.values)"
   ]
  },
  {
   "cell_type": "code",
   "execution_count": 72,
   "id": "1a3f3db7-c12a-41a7-a8d5-7be731d9bdf4",
   "metadata": {},
   "outputs": [],
   "source": [
    "v = CountVectorizer()\n",
    "X_train_cv = v .fit_transform(X_train.values)"
   ]
  },
  {
   "cell_type": "code",
   "execution_count": 73,
   "id": "ccc16b4b-be17-448f-a5e3-d3ec8e620eec",
   "metadata": {},
   "outputs": [
    {
     "data": {
      "text/plain": [
       "<4457x7700 sparse matrix of type '<class 'numpy.int64'>'\n",
       "\twith 59102 stored elements in Compressed Sparse Row format>"
      ]
     },
     "execution_count": 73,
     "metadata": {},
     "output_type": "execute_result"
    }
   ],
   "source": [
    "X_train_cv"
   ]
  },
  {
   "cell_type": "code",
   "execution_count": 74,
   "id": "59e59cb2-3cb9-4a82-967a-9242882e525a",
   "metadata": {},
   "outputs": [
    {
     "data": {
      "text/plain": [
       "array([[0, 0, 0, ..., 0, 0, 0],\n",
       "       [0, 0, 0, ..., 0, 0, 0],\n",
       "       [0, 0, 0, ..., 0, 0, 0],\n",
       "       ...,\n",
       "       [0, 0, 0, ..., 0, 0, 0],\n",
       "       [0, 0, 0, ..., 0, 0, 0],\n",
       "       [0, 0, 0, ..., 0, 0, 0]], dtype=int64)"
      ]
     },
     "execution_count": 74,
     "metadata": {},
     "output_type": "execute_result"
    }
   ],
   "source": [
    "X_train_cv.toarray()"
   ]
  },
  {
   "cell_type": "code",
   "execution_count": 75,
   "id": "931f88d9-a521-4bf6-b4cd-92dc4680c58d",
   "metadata": {},
   "outputs": [
    {
     "data": {
      "text/plain": [
       "array([0, 0, 0, ..., 0, 0, 0], dtype=int64)"
      ]
     },
     "execution_count": 75,
     "metadata": {},
     "output_type": "execute_result"
    }
   ],
   "source": [
    "X_train_cv.toarray()[0]"
   ]
  },
  {
   "cell_type": "code",
   "execution_count": 76,
   "id": "547cd72f-bed5-4bf7-91a1-37a0008a9aad",
   "metadata": {},
   "outputs": [
    {
     "data": {
      "text/plain": [
       "(4457, 7700)"
      ]
     },
     "execution_count": 76,
     "metadata": {},
     "output_type": "execute_result"
    }
   ],
   "source": [
    "X_train_cv.shape"
   ]
  },
  {
   "cell_type": "code",
   "execution_count": 77,
   "id": "68b3718b-52ff-423c-81ab-2fd514cb7833",
   "metadata": {},
   "outputs": [
    {
     "data": {
      "text/plain": [
       "array(['0207', '02072069400', '02073162414', '02085076972', '021', '03',\n",
       "       '04', '0430', '05', '050703', '0578', '06', '07', '07008009200',\n",
       "       '07090201529', '07090298926', '07123456789', '0721072',\n",
       "       '07732584351', '07734396839'], dtype=object)"
      ]
     },
     "execution_count": 77,
     "metadata": {},
     "output_type": "execute_result"
    }
   ],
   "source": [
    "v.get_feature_names_out()[10:30]"
   ]
  },
  {
   "cell_type": "code",
   "execution_count": 78,
   "id": "9f1106e1-b290-4231-9fc0-7d1ef4cb88b7",
   "metadata": {},
   "outputs": [
    {
     "data": {
      "text/plain": [
       "array(['app', 'apparently', 'appeal', 'appear', 'appendix',\n",
       "       'applausestore', 'applebees', 'apples', 'application', 'apply',\n",
       "       'applyed', 'applying', 'appointment', 'appointments', 'appreciate',\n",
       "       'appreciated', 'approaches', 'appropriate', 'approve', 'approved',\n",
       "       'approx', 'apps', 'appt', 'appy', 'april', 'aproach', 'apt',\n",
       "       'aptitude', 'aquarius', 'ar', 'arab', 'arabian', 'arcade',\n",
       "       'archive', 'ard', 'are', 'area', 'aren', 'arent', 'arestaurant',\n",
       "       'aretaking', 'areyouunique', 'argentina', 'argh', 'argue',\n",
       "       'arguing', 'argument', 'arguments', 'arise', 'arises'],\n",
       "      dtype=object)"
      ]
     },
     "execution_count": 78,
     "metadata": {},
     "output_type": "execute_result"
    }
   ],
   "source": [
    "v.get_feature_names_out()[1000:1050]"
   ]
  },
  {
   "cell_type": "code",
   "execution_count": 79,
   "id": "b8f7e94b-1be6-4659-81a3-6613907c5800",
   "metadata": {},
   "outputs": [
    {
     "data": {
      "text/plain": [
       "(7700,)"
      ]
     },
     "execution_count": 79,
     "metadata": {},
     "output_type": "execute_result"
    }
   ],
   "source": [
    "v.get_feature_names_out().shape"
   ]
  },
  {
   "cell_type": "code",
   "execution_count": 80,
   "id": "f181471a-9e35-4bc4-be0f-f859a5f6e301",
   "metadata": {},
   "outputs": [
    {
     "data": {
      "text/plain": [
       "['__class__',\n",
       " '__delattr__',\n",
       " '__dict__',\n",
       " '__dir__',\n",
       " '__doc__',\n",
       " '__eq__',\n",
       " '__format__',\n",
       " '__ge__',\n",
       " '__getattribute__',\n",
       " '__getstate__',\n",
       " '__gt__',\n",
       " '__hash__',\n",
       " '__init__',\n",
       " '__init_subclass__',\n",
       " '__le__',\n",
       " '__lt__',\n",
       " '__module__',\n",
       " '__ne__',\n",
       " '__new__',\n",
       " '__reduce__',\n",
       " '__reduce_ex__',\n",
       " '__repr__',\n",
       " '__setattr__',\n",
       " '__setstate__',\n",
       " '__sizeof__',\n",
       " '__str__',\n",
       " '__subclasshook__',\n",
       " '__weakref__',\n",
       " '_char_ngrams',\n",
       " '_char_wb_ngrams',\n",
       " '_check_feature_names',\n",
       " '_check_n_features',\n",
       " '_check_stop_words_consistency',\n",
       " '_check_vocabulary',\n",
       " '_count_vocab',\n",
       " '_get_param_names',\n",
       " '_get_tags',\n",
       " '_limit_features',\n",
       " '_more_tags',\n",
       " '_repr_html_',\n",
       " '_repr_html_inner',\n",
       " '_repr_mimebundle_',\n",
       " '_sort_features',\n",
       " '_stop_words_id',\n",
       " '_validate_data',\n",
       " '_validate_params',\n",
       " '_validate_vocabulary',\n",
       " '_warn_for_unused_params',\n",
       " '_white_spaces',\n",
       " '_word_ngrams',\n",
       " 'analyzer',\n",
       " 'binary',\n",
       " 'build_analyzer',\n",
       " 'build_preprocessor',\n",
       " 'build_tokenizer',\n",
       " 'decode',\n",
       " 'decode_error',\n",
       " 'dtype',\n",
       " 'encoding',\n",
       " 'fit',\n",
       " 'fit_transform',\n",
       " 'fixed_vocabulary_',\n",
       " 'get_feature_names',\n",
       " 'get_feature_names_out',\n",
       " 'get_params',\n",
       " 'get_stop_words',\n",
       " 'input',\n",
       " 'inverse_transform',\n",
       " 'lowercase',\n",
       " 'max_df',\n",
       " 'max_features',\n",
       " 'min_df',\n",
       " 'ngram_range',\n",
       " 'preprocessor',\n",
       " 'set_params',\n",
       " 'stop_words',\n",
       " 'stop_words_',\n",
       " 'strip_accents',\n",
       " 'token_pattern',\n",
       " 'tokenizer',\n",
       " 'transform',\n",
       " 'vocabulary',\n",
       " 'vocabulary_']"
      ]
     },
     "execution_count": 80,
     "metadata": {},
     "output_type": "execute_result"
    }
   ],
   "source": [
    "dir(v)"
   ]
  },
  {
   "cell_type": "code",
   "execution_count": 81,
   "id": "760542d5-2f7d-420f-8485-cb6caea8950e",
   "metadata": {},
   "outputs": [
    {
     "data": {
      "text/plain": [
       "{'umma': 7075,\n",
       " 'my': 4634,\n",
       " 'life': 4074,\n",
       " 'and': 947,\n",
       " 'vava': 7208,\n",
       " 'love': 4197,\n",
       " 'you': 7664,\n",
       " 'lot': 4184,\n",
       " 'dear': 2167,\n",
       " 'll': 4130,\n",
       " 'be': 1252,\n",
       " 'late': 3998,\n",
       " 'reach': 5550,\n",
       " 'home': 3447,\n",
       " 'call': 1580,\n",
       " 'me': 4375,\n",
       " 'arun': 1070,\n",
       " 'can': 1603,\n",
       " 'transfr': 6970,\n",
       " 'amt': 940,\n",
       " 'nvm': 4825,\n",
       " 'going': 3144,\n",
       " 'to': 6883,\n",
       " 'wear': 7370,\n",
       " 'sport': 6359,\n",
       " 'shoes': 6059,\n",
       " 'anyway': 991,\n",
       " 'leh': 4044,\n",
       " 'this': 6804,\n",
       " 'message': 4424,\n",
       " 'is': 3722,\n",
       " 'free': 2952,\n",
       " 'welcome': 7403,\n",
       " 'the': 6763,\n",
       " 'new': 4725,\n",
       " 'improved': 3614,\n",
       " 'sex': 6000,\n",
       " 'dogging': 2360,\n",
       " 'club': 1831,\n",
       " 'unsubscribe': 7127,\n",
       " 'from': 2987,\n",
       " 'service': 5987,\n",
       " 'reply': 5674,\n",
       " 'stop': 6445,\n",
       " 'msgs': 4591,\n",
       " '150p': 294,\n",
       " '18': 310,\n",
       " 'only': 4907,\n",
       " 'ok': 4878,\n",
       " 'lor': 4176,\n",
       " 'but': 1550,\n",
       " 'buy': 1555,\n",
       " 'wat': 7349,\n",
       " 'al': 881,\n",
       " 'he': 3341,\n",
       " 'does': 2354,\n",
       " 'moan': 4506,\n",
       " 'at': 1106,\n",
       " 'if': 3576,\n",
       " 'thin': 6792,\n",
       " 'goes': 3139,\n",
       " 'wrong': 7584,\n",
       " 'its': 3740,\n",
       " 'fault': 2753,\n",
       " 'de': 2162,\n",
       " 'arguments': 1047,\n",
       " 'fed': 2766,\n",
       " 'up': 7131,\n",
       " 'of': 4852,\n",
       " 'him': 3404,\n",
       " 'himso': 3405,\n",
       " 'bother': 1423,\n",
       " 'hav': 3328,\n",
       " '2go': 383,\n",
       " 'thanx': 6756,\n",
       " 'xx': 7613,\n",
       " 'dun': 2447,\n",
       " 'thk': 6805,\n",
       " 'quit': 5492,\n",
       " 'yet': 7651,\n",
       " 'hmmm': 3425,\n",
       " 'go': 3132,\n",
       " 'jazz': 3775,\n",
       " 'yogasana': 7661,\n",
       " 'oso': 4964,\n",
       " 'we': 7366,\n",
       " 'meet': 4392,\n",
       " 'em': 2525,\n",
       " 'after': 839,\n",
       " 'our': 4973,\n",
       " 'lessons': 4058,\n",
       " 'den': 2214,\n",
       " 'lets': 4060,\n",
       " 'use': 7168,\n",
       " 'it': 3733,\n",
       " 'next': 4731,\n",
       " 'week': 7388,\n",
       " 'princess': 5374,\n",
       " 're': 5549,\n",
       " 'met': 4431,\n",
       " 'alex': 891,\n",
       " 'nichols': 4736,\n",
       " 'middle': 4436,\n",
       " 'school': 5894,\n",
       " 'turns': 7031,\n",
       " 'out': 4975,\n",
       " 'dealing': 2166,\n",
       " '87077': 680,\n",
       " 'kick': 3898,\n",
       " 'off': 4854,\n",
       " 'season': 5924,\n",
       " 'with': 7501,\n",
       " '2wks': 411,\n",
       " 'goals': 3135,\n",
       " 'news': 4729,\n",
       " 'ur': 7150,\n",
       " 'mobile': 4509,\n",
       " 'txt': 7043,\n",
       " 'name': 4651,\n",
       " 'eg': 2500,\n",
       " 'villa': 7247,\n",
       " 'in': 3615,\n",
       " 'class': 1803,\n",
       " 'will': 7472,\n",
       " 'holla': 3443,\n",
       " 'later': 4001,\n",
       " 'as': 1071,\n",
       " 'usual': 7178,\n",
       " 'iam': 3549,\n",
       " 'fine': 2822,\n",
       " 'happy': 3311,\n",
       " 'amp': 935,\n",
       " 'doing': 2366,\n",
       " 'well': 7405,\n",
       " 'pls': 5220,\n",
       " 'clarify': 1800,\n",
       " 'back': 1184,\n",
       " 'an': 943,\n",
       " 'open': 4919,\n",
       " 'return': 5719,\n",
       " 'ticket': 6840,\n",
       " 'that': 6759,\n",
       " 'have': 3331,\n",
       " 'preponed': 5347,\n",
       " 'for': 2905,\n",
       " 'kerala': 3886,\n",
       " 'cool': 1977,\n",
       " 'last': 3996,\n",
       " 'little': 4121,\n",
       " 'while': 7444,\n",
       " 'getting': 3097,\n",
       " 'more': 4550,\n",
       " 'any': 979,\n",
       " 'time': 6852,\n",
       " 'soon': 6274,\n",
       " 'guy': 3258,\n",
       " 'browsin': 1506,\n",
       " 'compulsory': 1915,\n",
       " 'want': 7331,\n",
       " 'us': 7164,\n",
       " 'come': 1881,\n",
       " 'by': 1565,\n",
       " 'now': 4804,\n",
       " 'wish': 7494,\n",
       " 'were': 7414,\n",
       " 'hope': 3461,\n",
       " 'text': 6734,\n",
       " 'meets': 4395,\n",
       " 'smiling': 6210,\n",
       " 'not': 4793,\n",
       " 'then': 6775,\n",
       " 'let': 4059,\n",
       " 'give': 3116,\n",
       " 'reason': 5573,\n",
       " 'smile': 6206,\n",
       " 'beautiful': 1258,\n",
       " 'day': 2157,\n",
       " 'typical': 7058,\n",
       " 'honeymoon': 3454,\n",
       " 'outfit': 4979,\n",
       " 'sorry': 6283,\n",
       " 'was': 7343,\n",
       " 'bathroom': 1232,\n",
       " 'sup': 6555,\n",
       " 'fuck': 2997,\n",
       " 'babe': 1176,\n",
       " 'miss': 4476,\n",
       " 'sooooo': 6278,\n",
       " 'much': 4603,\n",
       " 'here': 3386,\n",
       " 'sleep': 6168,\n",
       " 'bed': 1268,\n",
       " 'so': 6237,\n",
       " 'lonely': 4159,\n",
       " 'dream': 2405,\n",
       " 'ard': 1034,\n",
       " '10': 243,\n",
       " 'smth': 6222,\n",
       " 'save': 5875,\n",
       " 'yourself': 7674,\n",
       " 'stress': 6466,\n",
       " 'person': 5132,\n",
       " 'has': 3321,\n",
       " 'dorm': 2383,\n",
       " 'account': 772,\n",
       " 'just': 3848,\n",
       " 'send': 5965,\n",
       " 'your': 7669,\n",
       " 'details': 2245,\n",
       " 'money': 4534,\n",
       " 'sent': 5974,\n",
       " 'sounds': 6295,\n",
       " 'good': 3155,\n",
       " 'keep': 3880,\n",
       " 'posted': 5293,\n",
       " '2nd': 397,\n",
       " 'tried': 6987,\n",
       " 'contact': 1953,\n",
       " 'won': 7530,\n",
       " '750': 608,\n",
       " 'pound': 5299,\n",
       " 'prize': 5385,\n",
       " 'claim': 1795,\n",
       " 'easy': 2474,\n",
       " '087187272008': 141,\n",
       " 'now1': 4805,\n",
       " '10p': 254,\n",
       " 'per': 5114,\n",
       " 'minute': 4466,\n",
       " 'bt': 1513,\n",
       " 'national': 4672,\n",
       " 'rate': 5532,\n",
       " 'talk': 6642,\n",
       " 'others': 4967,\n",
       " 'probably': 5390,\n",
       " 'early': 2465,\n",
       " 'tomorrow': 6908,\n",
       " 'actually': 795,\n",
       " 'deleted': 2205,\n",
       " 'old': 4890,\n",
       " 'website': 7379,\n",
       " 'blogging': 1374,\n",
       " 'magicalsongs': 4286,\n",
       " 'blogspot': 1375,\n",
       " 'com': 1875,\n",
       " 'thought': 6814,\n",
       " 'praps': 5324,\n",
       " 'meant': 4382,\n",
       " 'another': 966,\n",
       " 'one': 4901,\n",
       " 'goodo': 3164,\n",
       " 'look': 4164,\n",
       " 'how': 3492,\n",
       " 'cost': 1993,\n",
       " 'boy': 1446,\n",
       " 'his': 3410,\n",
       " 'father': 2749,\n",
       " 'power': 5305,\n",
       " 'frndship': 2981,\n",
       " 'are': 1035,\n",
       " '1000': 245,\n",
       " 'winner': 7484,\n",
       " 'or': 4939,\n",
       " 'guaranteed': 3239,\n",
       " 'caller': 1587,\n",
       " 'final': 2814,\n",
       " 'attempt': 1116,\n",
       " '09071517866': 229,\n",
       " '150ppmpobox10183bhamb64xe': 298,\n",
       " 'ya': 7625,\n",
       " 'came': 1598,\n",
       " 'ago': 857,\n",
       " 'claire': 1798,\n",
       " 'am': 921,\n",
       " 'havin': 3335,\n",
       " 'borin': 1416,\n",
       " 'alone': 907,\n",
       " 'wanna': 7329,\n",
       " 'cum': 2088,\n",
       " 'over': 4990,\n",
       " '2nite': 399,\n",
       " 'chat': 1716,\n",
       " '09099725823': 235,\n",
       " 'luv': 4237,\n",
       " 'calls': 1594,\n",
       " 'minmoremobsemspobox45po139wa': 4461,\n",
       " 'morning': 4554,\n",
       " 'plz': 5226,\n",
       " 'sir': 6135,\n",
       " 'ela': 2512,\n",
       " 'kano': 3866,\n",
       " 'il': 3585,\n",
       " 'download': 2393,\n",
       " 'wen': 7408,\n",
       " 'did': 2271,\n",
       " 'say': 5880,\n",
       " 'bold': 1398,\n",
       " 'torch': 6933,\n",
       " '2bold': 373,\n",
       " 'many': 4323,\n",
       " 'people': 5112,\n",
       " 'seems': 5946,\n",
       " 'special': 6319,\n",
       " 'first': 2837,\n",
       " 'sight': 6109,\n",
       " 'very': 7226,\n",
       " 'few': 2784,\n",
       " 'remain': 5644,\n",
       " 'till': 6850,\n",
       " 'maintain': 4296,\n",
       " 'them': 6771,\n",
       " 'ends': 2547,\n",
       " 'sh': 6008,\n",
       " 'jas': 3768,\n",
       " 'battery': 1234,\n",
       " 'died': 2277,\n",
       " 'gram': 3194,\n",
       " 'where': 7437,\n",
       " 'place': 5192,\n",
       " 'si': 6100,\n",
       " 'think': 6795,\n",
       " 'ill': 3587,\n",
       " 'make': 4299,\n",
       " 'those': 6811,\n",
       " 'oreo': 4952,\n",
       " 'truffles': 7002,\n",
       " 'denying': 2220,\n",
       " 'words': 7546,\n",
       " 'please': 5213,\n",
       " 'cant': 1615,\n",
       " 'talking': 6646,\n",
       " 'sure': 6572,\n",
       " 'pay': 5087,\n",
       " 'they': 6788,\n",
       " 'agree': 858,\n",
       " 'price': 5368,\n",
       " 'tell': 6699,\n",
       " 'what': 7427,\n",
       " 'really': 5569,\n",
       " 'willing': 7473,\n",
       " 'cute': 2107,\n",
       " 'friendship': 2975,\n",
       " 'necessary': 4691,\n",
       " 'share': 6026,\n",
       " 'every': 2626,\n",
       " 'secret': 5930,\n",
       " 'close': 1821,\n",
       " 'frnd': 2979,\n",
       " 'watever': 7355,\n",
       " 'shared': 6027,\n",
       " 'should': 6075,\n",
       " 'true': 7000,\n",
       " 'also': 912,\n",
       " 'knows': 3933,\n",
       " 'about': 746,\n",
       " 'lunch': 4233,\n",
       " 'menu': 4418,\n",
       " 'da': 2118,\n",
       " 'know': 3930,\n",
       " 'apparently': 1001,\n",
       " 'bffs': 1321,\n",
       " 'carly': 1642,\n",
       " 'quick': 5489,\n",
       " 'buzzzz': 1561,\n",
       " 'grins': 3220,\n",
       " 'buzz': 1560,\n",
       " 'ass': 1090,\n",
       " 'chest': 1745,\n",
       " 'cock': 1848,\n",
       " 'do': 2347,\n",
       " 'phone': 5153,\n",
       " 'vibrator': 7232,\n",
       " 'on': 4897,\n",
       " 'feel': 2769,\n",
       " 'shake': 6016,\n",
       " '9ja': 724,\n",
       " 'no': 4759,\n",
       " 'found': 2934,\n",
       " 'diff': 2281,\n",
       " 'farm': 2740,\n",
       " 'shop': 6062,\n",
       " 'some': 6251,\n",
       " 'cheese': 1737,\n",
       " 'way': 7361,\n",
       " 'cash': 1652,\n",
       " 'balance': 1195,\n",
       " 'currently': 2095,\n",
       " '500': 525,\n",
       " 'pounds': 5301,\n",
       " 'maximize': 4366,\n",
       " '86688': 676,\n",
       " 'msg': 4585,\n",
       " 'cc': 1670,\n",
       " '08718720201': 135,\n",
       " 'hg': 3395,\n",
       " 'suite342': 6534,\n",
       " '2lands': 388,\n",
       " 'row': 5786,\n",
       " 'w1j6hl': 7291,\n",
       " 'mmm': 4496,\n",
       " 'thats': 6762,\n",
       " 'better': 1312,\n",
       " 'got': 3173,\n",
       " 'roast': 5760,\n",
       " 'down': 2392,\n",
       " 'had': 3268,\n",
       " 'drinks': 2414,\n",
       " 'indian': 3637,\n",
       " 'still': 6433,\n",
       " 'catch': 1660,\n",
       " 'her': 3385,\n",
       " 'ask': 1080,\n",
       " 'she': 6031,\n",
       " 'sell': 5958,\n",
       " 'lt': 4221,\n",
       " 'gt': 3236,\n",
       " 'don': 2374,\n",
       " 'too': 6920,\n",
       " 'stressfull': 6468,\n",
       " 'always': 919,\n",
       " 'find': 2819,\n",
       " 'laugh': 4005,\n",
       " 'may': 4367,\n",
       " 'add': 798,\n",
       " 'years': 7638,\n",
       " 'surely': 6573,\n",
       " 'adds': 805,\n",
       " 'gud': 3241,\n",
       " 'ni8': 4733,\n",
       " 'swt': 6610,\n",
       " 'dreams': 2406,\n",
       " 'nutter': 4824,\n",
       " 'cutter': 2110,\n",
       " 'ctter': 2076,\n",
       " 'cttergg': 2077,\n",
       " 'cttargg': 2075,\n",
       " 'ctargg': 2072,\n",
       " 'ctagg': 2071,\n",
       " 'ie': 3575,\n",
       " 'staff': 6383,\n",
       " 'placement': 5194,\n",
       " 'training': 6961,\n",
       " 'amrita': 938,\n",
       " 'college': 1870,\n",
       " 'dled': 2343,\n",
       " '3d': 446,\n",
       " 'imp': 3602,\n",
       " 'oclock': 4849,\n",
       " 'mine': 4455,\n",
       " 'bash': 1221,\n",
       " 'flat': 2853,\n",
       " 'plan': 5196,\n",
       " 'lovable': 4196,\n",
       " 'bcums': 1249,\n",
       " 'angry': 952,\n",
       " 'wid': 7461,\n",
       " 'dnt': 2346,\n",
       " 'take': 6634,\n",
       " 'seriously': 5984,\n",
       " 'coz': 2018,\n",
       " 'being': 1289,\n",
       " 'most': 4558,\n",
       " 'childish': 1759,\n",
       " 'showing': 6086,\n",
       " 'deep': 2187,\n",
       " 'affection': 831,\n",
       " 'care': 1629,\n",
       " 'kettoda': 3889,\n",
       " 'manda': 4314,\n",
       " 'nice': 4735,\n",
       " 'like': 4086,\n",
       " 'times': 6853,\n",
       " 'night': 4741,\n",
       " 'problem': 5391,\n",
       " 'shower': 6084,\n",
       " 'baby': 1179,\n",
       " 'ujhhhhhhh': 7069,\n",
       " 'computer': 1917,\n",
       " 'shipped': 6046,\n",
       " 'address': 804,\n",
       " 'sandiago': 5851,\n",
       " 'parantella': 5044,\n",
       " 'lane': 3982,\n",
       " 'wtf': 7590,\n",
       " 'poop': 5266,\n",
       " 'aldrine': 887,\n",
       " 'rakhesh': 5518,\n",
       " 'ex': 2647,\n",
       " 'rtm': 5796,\n",
       " 'urgent': 7154,\n",
       " 'which': 7443,\n",
       " 'weird': 7398,\n",
       " 'because': 1262,\n",
       " 'point': 5246,\n",
       " 'drop': 2421,\n",
       " 'either': 2511,\n",
       " '10k': 253,\n",
       " '5k': 548,\n",
       " '100': 244,\n",
       " 'travel': 6976,\n",
       " 'voucher': 7281,\n",
       " '09064011000': 197,\n",
       " 'ntt': 4812,\n",
       " 'po': 5229,\n",
       " 'box': 1433,\n",
       " 'cr01327bt': 2022,\n",
       " 'fixedline': 2845,\n",
       " '150ppm': 297,\n",
       " 'vary': 7206,\n",
       " 'someone': 6255,\n",
       " 'contacted': 1954,\n",
       " 'dating': 2153,\n",
       " 'entered': 2565,\n",
       " 'becausethey': 1263,\n",
       " 'fancy': 2734,\n",
       " 'who': 7449,\n",
       " 'landline': 3978,\n",
       " '09058098002': 176,\n",
       " 'pobox1': 5232,\n",
       " 'w14rg': 7289,\n",
       " 'eatin': 2477,\n",
       " 'goin': 3142,\n",
       " 'work': 7547,\n",
       " 'mountain': 4567,\n",
       " 'deer': 2190,\n",
       " 'show': 6082,\n",
       " 'huh': 3518,\n",
       " 'watch': 7350,\n",
       " 'b4': 1169,\n",
       " 'liao': 4066,\n",
       " 'mobiles': 4510,\n",
       " '2004': 339,\n",
       " 'must': 4626,\n",
       " 'nokia': 4768,\n",
       " '89545': 699,\n",
       " 'collect': 1865,\n",
       " 'yours': 7673,\n",
       " 'today': 6888,\n",
       " 'www': 7599,\n",
       " 'tc': 6673,\n",
       " 'biz': 1353,\n",
       " '2optout': 400,\n",
       " '087187262701': 139,\n",
       " '50gbp': 530,\n",
       " 'mtmsg18': 4598,\n",
       " 'contents': 1960,\n",
       " 'page': 5017,\n",
       " 'story': 6458,\n",
       " 've': 7211,\n",
       " 'told': 6899,\n",
       " 'returned': 5720,\n",
       " 'saying': 5883,\n",
       " 'order': 4947,\n",
       " 'wife': 7464,\n",
       " 'knew': 3926,\n",
       " 'murder': 4619,\n",
       " 'exactly': 2649,\n",
       " 'im': 3591,\n",
       " 'arestaurant': 1039,\n",
       " 'eating': 2478,\n",
       " 'squid': 6377,\n",
       " '30': 415,\n",
       " 'dosomething': 2386,\n",
       " 'hcl': 3339,\n",
       " 'chennai': 1741,\n",
       " 'requires': 5684,\n",
       " 'freshers': 2965,\n",
       " 'voice': 7272,\n",
       " 'process': 5398,\n",
       " 'excellent': 2652,\n",
       " 'english': 2555,\n",
       " 'needed': 4698,\n",
       " 'salary': 5838,\n",
       " 'upto': 7148,\n",
       " 'ms': 4584,\n",
       " 'suman': 6539,\n",
       " 'telephonic': 6698,\n",
       " 'interview': 3687,\n",
       " 'via': 7229,\n",
       " 'indyarocks': 3641,\n",
       " 'outta': 4987,\n",
       " 'gonna': 3153,\n",
       " 'gym': 3262,\n",
       " 'house': 3488,\n",
       " 'sky': 6161,\n",
       " 'quite': 5493,\n",
       " 'dark': 2138,\n",
       " 'raining': 5510,\n",
       " 'excuse': 2656,\n",
       " 'run': 5812,\n",
       " 'already': 909,\n",
       " 'rite': 5755,\n",
       " 'hee': 3363,\n",
       " 'company': 1898,\n",
       " 'environment': 2579,\n",
       " 'terrific': 6722,\n",
       " 'food': 2896,\n",
       " 'bruv': 1509,\n",
       " 'great': 3210,\n",
       " 'break': 1464,\n",
       " 'rewarding': 5731,\n",
       " 'semester': 5962,\n",
       " 'town': 6950,\n",
       " 'important': 3606,\n",
       " 'believe': 1290,\n",
       " 'dont': 2378,\n",
       " 'hi': 3397,\n",
       " 'freemsg': 2958,\n",
       " 'wow': 7570,\n",
       " 'cam': 1596,\n",
       " 'moby': 4518,\n",
       " 'hot': 3481,\n",
       " 'pic': 5167,\n",
       " 'w8in': 7296,\n",
       " '4utxt': 519,\n",
       " 'rply': 5791,\n",
       " '82242': 645,\n",
       " 'hlp': 3421,\n",
       " '08712317606': 99,\n",
       " 'msg150p': 4586,\n",
       " '2rcv': 404,\n",
       " 'congrats': 1937,\n",
       " '3650': 436,\n",
       " 'video': 7236,\n",
       " 'camera': 1599,\n",
       " '09066382422': 225,\n",
       " 'ave': 1146,\n",
       " '3mins': 454,\n",
       " '16': 305,\n",
       " '300603': 417,\n",
       " 'post': 5289,\n",
       " 'bcm4284': 1246,\n",
       " 'ldn': 4019,\n",
       " 'wc1n3xx': 7365,\n",
       " 'colours': 1874,\n",
       " 'colour': 1872,\n",
       " 'light': 4082,\n",
       " 'other': 4966,\n",
       " 'darker': 2139,\n",
       " 'done': 2376,\n",
       " 'styling': 6500,\n",
       " 'hair': 3275,\n",
       " 'drive': 2415,\n",
       " 'sch': 5892,\n",
       " 'long': 4160,\n",
       " 'get': 3089,\n",
       " 'minutes': 4467,\n",
       " 'joined': 3810,\n",
       " 'league': 4027,\n",
       " 'touch': 6944,\n",
       " 'mean': 4378,\n",
       " 'deal': 2164,\n",
       " 'been': 1273,\n",
       " 'friend': 2972,\n",
       " 'all': 899,\n",
       " 'even': 2620,\n",
       " 'personal': 5134,\n",
       " 'holding': 3440,\n",
       " 'darlings': 2144,\n",
       " 'far': 2739,\n",
       " 'need': 4696,\n",
       " 'coffee': 1852,\n",
       " 'tomo': 6906,\n",
       " 'sms': 6217,\n",
       " 'auction': 1126,\n",
       " 'brand': 1456,\n",
       " '7250': 602,\n",
       " 'join': 3809,\n",
       " 'part': 5055,\n",
       " '86021': 673,\n",
       " 'wonderful': 7533,\n",
       " 'okors': 4886,\n",
       " 'month': 4543,\n",
       " 'cherish': 1743,\n",
       " 'guys': 3259,\n",
       " 'each': 2461,\n",
       " 'mojibiola': 4526,\n",
       " 'marriage': 4334,\n",
       " 'function': 3012,\n",
       " 'sized': 6150,\n",
       " 'tantrum': 6652,\n",
       " 'finished': 2827,\n",
       " 'yeah': 7636,\n",
       " 'play': 5204,\n",
       " 'hey': 3394,\n",
       " 'breathing': 1474,\n",
       " 'neck': 4693,\n",
       " 'bud': 1518,\n",
       " 'able': 744,\n",
       " 'half': 3280,\n",
       " 'track': 6954,\n",
       " 'usf': 7174,\n",
       " 'tonight': 6915,\n",
       " 'finally': 2816,\n",
       " 'completed': 1907,\n",
       " 'course': 2013,\n",
       " 'haven': 3333,\n",
       " 'seen': 5947,\n",
       " 'facebook': 2705,\n",
       " 'lol': 4154,\n",
       " 'thanks': 6751,\n",
       " 'thinking': 6798,\n",
       " 'opposite': 4932,\n",
       " 'side': 6106,\n",
       " 'dropped': 2422,\n",
       " 'change': 1698,\n",
       " 'field': 2791,\n",
       " 'quickly': 5490,\n",
       " 'system': 6619,\n",
       " 'administrator': 809,\n",
       " 'network': 4717,\n",
       " 'hello': 3371,\n",
       " 'darlin': 2142,\n",
       " 'ive': 3744,\n",
       " 'when': 7433,\n",
       " 'finish': 2825,\n",
       " 'kate': 3871,\n",
       " 'xxx': 7616,\n",
       " 'something': 6259,\n",
       " 'fast': 2744,\n",
       " '07808726822': 38,\n",
       " 'awarded': 1159,\n",
       " '000': 1,\n",
       " 'bonus': 1404,\n",
       " '02': 9,\n",
       " '09': 155,\n",
       " '03': 15,\n",
       " '0871': 92,\n",
       " '872': 683,\n",
       " '9758': 718,\n",
       " 'box95qu': 1444,\n",
       " 'needs': 4701,\n",
       " 'fucking': 3000,\n",
       " 'see': 5940,\n",
       " 'why': 7457,\n",
       " '900': 709,\n",
       " 'yesterday': 7650,\n",
       " 'awaiting': 1156,\n",
       " 'collection': 1868,\n",
       " '09061702893': 187,\n",
       " 'taxi': 6666,\n",
       " 'ing': 3650,\n",
       " 'tuesday': 7022,\n",
       " 'cinema': 1790,\n",
       " 'jus': 3847,\n",
       " 'telling': 6700,\n",
       " 'dat': 2148,\n",
       " 'leaving': 4035,\n",
       " 'shanghai': 6022,\n",
       " '21st': 349,\n",
       " 'instead': 3672,\n",
       " 'haf': 3270,\n",
       " 'cya': 2114,\n",
       " 'mystery': 4640,\n",
       " 'solved': 6250,\n",
       " 'opened': 4920,\n",
       " 'email': 2526,\n",
       " 'batch': 1227,\n",
       " 'isn': 3729,\n",
       " 'sweetie': 6601,\n",
       " 'bus': 1544,\n",
       " 'cold': 1860,\n",
       " 'sad': 5827,\n",
       " 'hella': 3370,\n",
       " 'gas': 3052,\n",
       " 'grand': 3197,\n",
       " 'nature': 4674,\n",
       " 'adventure': 821,\n",
       " 'galileo': 3034,\n",
       " 'bit': 1347,\n",
       " 'frying': 2995,\n",
       " 'pan': 5027,\n",
       " 'case': 1651,\n",
       " 'cheap': 1721,\n",
       " 'book': 1407,\n",
       " 'perhaps': 5122,\n",
       " 'silly': 6117,\n",
       " 'likely': 4088,\n",
       " 'dogbreath': 2358,\n",
       " 'sounding': 6294,\n",
       " 'jan': 3762,\n",
       " 'bahamas': 1189,\n",
       " 'callfreefone': 1590,\n",
       " '08081560665': 58,\n",
       " 'speak': 6317,\n",
       " 'live': 4122,\n",
       " 'operator': 4926,\n",
       " 'cruise': 2062,\n",
       " '2000': 337,\n",
       " 'opt': 4934,\n",
       " '07786200117': 34,\n",
       " 'nothing': 4796,\n",
       " 'tot': 6940,\n",
       " 'would': 7566,\n",
       " 'cos': 1991,\n",
       " 'ba': 1173,\n",
       " 'gua': 3237,\n",
       " 'went': 7411,\n",
       " 'mt': 4593,\n",
       " 'faber': 2703,\n",
       " 'yest': 7649,\n",
       " 'mah': 4287,\n",
       " 'round': 5783,\n",
       " 'til': 6849,\n",
       " 'ish': 3725,\n",
       " 'there': 6781,\n",
       " 'sense': 5970,\n",
       " 'foot': 2899,\n",
       " 'penis': 5110,\n",
       " 'gotta': 3179,\n",
       " 'car': 1624,\n",
       " 'lei': 4045,\n",
       " 'ride': 5740,\n",
       " 'chikku': 1757,\n",
       " 'tke': 6869,\n",
       " 'nyt': 4832,\n",
       " 'call09050000327': 1581,\n",
       " 'rstm': 5794,\n",
       " 'sw7': 6587,\n",
       " '3ss': 459,\n",
       " 'yr': 7677,\n",
       " 'customer': 2102,\n",
       " 'representative': 5678,\n",
       " '08714712394': 116,\n",
       " 'between': 1315,\n",
       " '10am': 252,\n",
       " '7pm': 622,\n",
       " 'office': 4863,\n",
       " 'around': 1057,\n",
       " 'pm': 5227,\n",
       " 'hospital': 3476,\n",
       " 'blimey': 1369,\n",
       " 'exercise': 2661,\n",
       " 'kinda': 3911,\n",
       " 'remember': 5646,\n",
       " 'wot': 7563,\n",
       " 'hmm': 3424,\n",
       " 'fr': 2941,\n",
       " 'dinner': 2300,\n",
       " 'gets': 3093,\n",
       " 'used': 7169,\n",
       " 'dumb': 2445,\n",
       " 'realize': 5567,\n",
       " 'could': 2002,\n",
       " 'hour': 3485,\n",
       " 'roommate': 5778,\n",
       " 'looking': 4168,\n",
       " 'stock': 6436,\n",
       " 'trip': 6988,\n",
       " 'win': 7475,\n",
       " 'year': 7637,\n",
       " 'supply': 6564,\n",
       " 'cds': 1675,\n",
       " 'store': 6454,\n",
       " 'choice': 1773,\n",
       " 'worth': 7561,\n",
       " 'enter': 2564,\n",
       " 'weekly': 7392,\n",
       " 'draw': 2402,\n",
       " 'music': 4623,\n",
       " '87066': 679,\n",
       " 'ts': 7011,\n",
       " 'cs': 2065,\n",
       " 'ldew': 4018,\n",
       " 'subs16': 6509,\n",
       " '1win150ppmx3': 330,\n",
       " 'thesmszone': 6786,\n",
       " 'anonymous': 964,\n",
       " 'masked': 4341,\n",
       " 'messages': 4426,\n",
       " 'sending': 5967,\n",
       " 'potential': 5296,\n",
       " 'abuse': 755,\n",
       " 'evening': 2621,\n",
       " 'ttyl': 7019,\n",
       " 'omw': 4896,\n",
       " 'yes': 7648,\n",
       " 'crickiting': 2050,\n",
       " 'mind': 4452,\n",
       " 'check': 1726,\n",
       " 'rooms': 5780,\n",
       " 'befor': 1277,\n",
       " 'activities': 792,\n",
       " 'haha': 3271,\n",
       " 'okay': 4879,\n",
       " 'weekend': 7390,\n",
       " 'dramatic': 2401,\n",
       " 'schools': 5895,\n",
       " 'closed': 1823,\n",
       " 'inch': 3618,\n",
       " 'snow': 6233,\n",
       " 'supposed': 6568,\n",
       " 'shuhui': 6096,\n",
       " 'bought': 1427,\n",
       " 'ron': 5775,\n",
       " 'present': 5353,\n",
       " 'swatch': 6593,\n",
       " 'piece': 5176,\n",
       " 'wenever': 7410,\n",
       " 'lik': 4085,\n",
       " 'tel': 6695,\n",
       " 'vikky': 7245,\n",
       " 'fights': 2800,\n",
       " 'nite': 4754,\n",
       " 'ain': 869,\n",
       " 'smokin': 6215,\n",
       " 'busy': 1549,\n",
       " '08714712388': 115,\n",
       " 'ups': 7145,\n",
       " '3days': 447,\n",
       " 'shipping': 6047,\n",
       " 'takes': 6637,\n",
       " 'usps': 7177,\n",
       " 'lag': 3968,\n",
       " 'bribe': 1476,\n",
       " 'nipost': 4752,\n",
       " 'stuff': 6492,\n",
       " 'doesn': 2355,\n",
       " 'thus': 6836,\n",
       " 'shouldn': 6077,\n",
       " 'trying': 7010,\n",
       " 'smoke': 6212,\n",
       " 'congratulations': 1939,\n",
       " 'cd': 1673,\n",
       " 'gift': 3104,\n",
       " 'vouchers': 7282,\n",
       " 'entry': 2574,\n",
       " 'tncs': 6882,\n",
       " 'com1win150ppmx3age16': 1876,\n",
       " 'slide': 6178,\n",
       " 'enough': 2562,\n",
       " 'oh': 4873,\n",
       " 'sec': 5926,\n",
       " 'sign': 6110,\n",
       " 'maturity': 4362,\n",
       " 'start': 6400,\n",
       " 'big': 1328,\n",
       " 'things': 6794,\n",
       " 'understanding': 7095,\n",
       " 'small': 6195,\n",
       " 'bslvyl': 1510,\n",
       " 'fantasies': 2736,\n",
       " '08707509020': 85,\n",
       " '20p': 346,\n",
       " 'min': 4450,\n",
       " 'ltd': 4222,\n",
       " '1327': 281,\n",
       " 'croydon': 2058,\n",
       " 'cr9': 2023,\n",
       " '5wb': 554,\n",
       " '0870': 67,\n",
       " 'joys': 3828,\n",
       " 'lifeis': 4076,\n",
       " 'waking': 7312,\n",
       " 'daywith': 2160,\n",
       " 'thoughts': 6815,\n",
       " 'somewheresomeone': 6265,\n",
       " 'cares': 1637,\n",
       " 'tosend': 6937,\n",
       " 'warm': 7338,\n",
       " 'greeting': 3216,\n",
       " 'hopefully': 3464,\n",
       " 'shining': 6044,\n",
       " 'signing': 6114,\n",
       " 'guess': 3245,\n",
       " 'worried': 7555,\n",
       " 'body': 1395,\n",
       " 'repairs': 5666,\n",
       " 'itself': 3741,\n",
       " 'worry': 7557,\n",
       " 'slow': 6188,\n",
       " 'tests': 6730,\n",
       " 'guide': 3250,\n",
       " 'ovulation': 4998,\n",
       " 'relax': 5635,\n",
       " 'said': 5835,\n",
       " 'followin': 2889,\n",
       " 'men': 4412,\n",
       " 'charge': 1706,\n",
       " 'project': 5408,\n",
       " 'centre': 1685,\n",
       " 'ages': 854,\n",
       " 'abj': 743,\n",
       " 'preferably': 5338,\n",
       " 'pap': 5036,\n",
       " 'slowly': 6191,\n",
       " 'loads': 4136,\n",
       " 'sugar': 6530,\n",
       " 'water': 7354,\n",
       " 'juz': 3852,\n",
       " 'receive': 5585,\n",
       " 'noon': 4777,\n",
       " 'happen': 3301,\n",
       " 'everybody': 2628,\n",
       " 'right': 5741,\n",
       " 'jabo': 3750,\n",
       " 'abi': 740,\n",
       " 'valued': 7200,\n",
       " 'vodafone': 7270,\n",
       " 'picked': 5169,\n",
       " ...}"
      ]
     },
     "execution_count": 81,
     "metadata": {},
     "output_type": "execute_result"
    }
   ],
   "source": [
    "v.vocabulary_  #word:position"
   ]
  },
  {
   "cell_type": "code",
   "execution_count": 82,
   "id": "7cf009ae-546b-4d04-9884-4a74da57da3c",
   "metadata": {},
   "outputs": [
    {
     "data": {
      "text/plain": [
       "'tihs'"
      ]
     },
     "execution_count": 82,
     "metadata": {},
     "output_type": "execute_result"
    }
   ],
   "source": [
    "v.get_feature_names_out()[6847]"
   ]
  },
  {
   "cell_type": "code",
   "execution_count": 83,
   "id": "9411cf59-5a7c-4935-8cc8-b36852ec6b5b",
   "metadata": {},
   "outputs": [
    {
     "data": {
      "text/plain": [
       "array([[0, 0, 0, ..., 0, 0, 0],\n",
       "       [0, 0, 0, ..., 0, 0, 0],\n",
       "       [0, 0, 0, ..., 0, 0, 0],\n",
       "       ...,\n",
       "       [0, 0, 0, ..., 0, 0, 0],\n",
       "       [0, 0, 0, ..., 0, 0, 0],\n",
       "       [0, 0, 0, ..., 0, 0, 0]], dtype=int64)"
      ]
     },
     "execution_count": 83,
     "metadata": {},
     "output_type": "execute_result"
    }
   ],
   "source": [
    "X_train_np = X_train_cv.toarray()\n",
    "X_train_np"
   ]
  },
  {
   "cell_type": "code",
   "execution_count": 84,
   "id": "2b8db871-79ce-499c-851b-df4b408bf6e2",
   "metadata": {},
   "outputs": [
    {
     "data": {
      "text/plain": [
       "array([[0, 0, 0, ..., 0, 0, 0],\n",
       "       [0, 0, 0, ..., 0, 0, 0],\n",
       "       [0, 0, 0, ..., 0, 0, 0],\n",
       "       [0, 0, 0, ..., 0, 0, 0]], dtype=int64)"
      ]
     },
     "execution_count": 84,
     "metadata": {},
     "output_type": "execute_result"
    }
   ],
   "source": [
    "X_train_np[0:4]"
   ]
  },
  {
   "cell_type": "code",
   "execution_count": 85,
   "id": "24ca71fa-152d-4ad5-ad9a-18cb36a4882a",
   "metadata": {},
   "outputs": [
    {
     "data": {
      "text/plain": [
       "(array([ 947, 2167, 4074, 4184, 4197, 4634, 7075, 7208, 7664], dtype=int64),)"
      ]
     },
     "execution_count": 85,
     "metadata": {},
     "output_type": "execute_result"
    }
   ],
   "source": [
    "np.where(X_train_np[0]!= 0)"
   ]
  },
  {
   "cell_type": "code",
   "execution_count": 86,
   "id": "123edabe-9a51-48ff-b8e0-be80656e829f",
   "metadata": {},
   "outputs": [
    {
     "data": {
      "text/plain": [
       "105     Umma my life and vava umma love you lot dear\n",
       "534                                  I'll be late...\n",
       "2838                         1's reach home call me.\n",
       "5457                     Arun can u transfr me d amt\n",
       "Name: Message, dtype: object"
      ]
     },
     "execution_count": 86,
     "metadata": {},
     "output_type": "execute_result"
    }
   ],
   "source": [
    "X_train[:4]"
   ]
  },
  {
   "cell_type": "code",
   "execution_count": 87,
   "id": "cbf957fa-dfc6-499f-b648-305867a709cb",
   "metadata": {},
   "outputs": [
    {
     "data": {
      "text/plain": [
       "0"
      ]
     },
     "execution_count": 87,
     "metadata": {},
     "output_type": "execute_result"
    }
   ],
   "source": [
    "X_train_np[0][1928]"
   ]
  },
  {
   "cell_type": "code",
   "execution_count": 89,
   "id": "d6ffe836-93d1-4ef4-8189-e630ce161cdb",
   "metadata": {},
   "outputs": [
    {
     "data": {
      "text/plain": [
       "'conference'"
      ]
     },
     "execution_count": 89,
     "metadata": {},
     "output_type": "execute_result"
    }
   ],
   "source": [
    "v.get_feature_names_out()[1928]"
   ]
  },
  {
   "cell_type": "code",
   "execution_count": 92,
   "id": "f1a90e92-5c8e-4878-9689-cd1524d51430",
   "metadata": {},
   "outputs": [
    {
     "data": {
      "text/plain": [
       "MultinomialNB()"
      ]
     },
     "execution_count": 92,
     "metadata": {},
     "output_type": "execute_result"
    }
   ],
   "source": [
    "from sklearn.naive_bayes import MultinomialNB\n",
    "model = MultinomialNB()\n",
    "model.fit(X_train_cv, y_train)"
   ]
  },
  {
   "cell_type": "code",
   "execution_count": 93,
   "id": "5c0dfee8-a15d-4ad6-96b8-3e74244f24c4",
   "metadata": {},
   "outputs": [],
   "source": [
    "X_test_cv = v.transform(X_test)"
   ]
  },
  {
   "cell_type": "code",
   "execution_count": 94,
   "id": "caa2c212-11a4-470d-9b3a-f54fc1e312f1",
   "metadata": {},
   "outputs": [
    {
     "data": {
      "text/plain": [
       "'              precision    recall  f1-score   support\\n\\n           0       0.99      1.00      0.99       955\\n           1       0.98      0.96      0.97       160\\n\\n    accuracy                           0.99      1115\\n   macro avg       0.99      0.98      0.98      1115\\nweighted avg       0.99      0.99      0.99      1115\\n'"
      ]
     },
     "execution_count": 94,
     "metadata": {},
     "output_type": "execute_result"
    }
   ],
   "source": [
    "from sklearn.metrics import classification_report\n",
    "y_pred = model.predict(X_test_cv)\n",
    "classification_report(y_test, y_pred)"
   ]
  },
  {
   "cell_type": "code",
   "execution_count": 95,
   "id": "34316098-774b-4cd4-983b-7de6d230773f",
   "metadata": {},
   "outputs": [
    {
     "data": {
      "text/plain": [
       "'              precision    recall  f1-score   support\\n\\n           0       0.99      1.00      0.99       955\\n           1       0.98      0.96      0.97       160\\n\\n    accuracy                           0.99      1115\\n   macro avg       0.99      0.98      0.98      1115\\nweighted avg       0.99      0.99      0.99      1115\\n'"
      ]
     },
     "execution_count": 95,
     "metadata": {},
     "output_type": "execute_result"
    }
   ],
   "source": [
    "classification_report(y_test, y_pred)"
   ]
  },
  {
   "cell_type": "code",
   "execution_count": null,
   "id": "f8bc9a80-297a-4c86-8cd3-11797bdf8bb8",
   "metadata": {},
   "outputs": [],
   "source": [
    "#by simply using pipeline we could perform above steps."
   ]
  },
  {
   "cell_type": "code",
   "execution_count": 97,
   "id": "a565fd6a-b758-49e0-b7fe-e1253019300c",
   "metadata": {},
   "outputs": [],
   "source": [
    "from sklearn.pipeline import Pipeline\n",
    "clf = Pipeline([\n",
    "    ('vectorizor', CountVectorizer()),\n",
    "    ('nb', MultinomialNB())\n",
    "])"
   ]
  },
  {
   "cell_type": "code",
   "execution_count": 99,
   "id": "b1f40773-e20c-4ee1-986f-50bd282bbdf6",
   "metadata": {},
   "outputs": [
    {
     "data": {
      "text/plain": [
       "Pipeline(steps=[('vectorizor', CountVectorizer()), ('nb', MultinomialNB())])"
      ]
     },
     "execution_count": 99,
     "metadata": {},
     "output_type": "execute_result"
    }
   ],
   "source": [
    "clf.fit(X_train, y_train)"
   ]
  },
  {
   "cell_type": "code",
   "execution_count": 101,
   "id": "f4a547f8-c970-4aa3-8160-820dd9be54df",
   "metadata": {},
   "outputs": [
    {
     "name": "stdout",
     "output_type": "stream",
     "text": [
      "              precision    recall  f1-score   support\n",
      "\n",
      "           0       0.99      1.00      0.99       955\n",
      "           1       0.98      0.96      0.97       160\n",
      "\n",
      "    accuracy                           0.99      1115\n",
      "   macro avg       0.99      0.98      0.98      1115\n",
      "weighted avg       0.99      0.99      0.99      1115\n",
      "\n"
     ]
    }
   ],
   "source": [
    "y_pred  = clf.predict(X_test)\n",
    "print(classification_report(y_test, y_pred))"
   ]
  },
  {
   "cell_type": "code",
   "execution_count": null,
   "id": "b45da7ea-13eb-4120-b190-d6b583c95afa",
   "metadata": {},
   "outputs": [],
   "source": []
  }
 ],
 "metadata": {
  "kernelspec": {
   "display_name": "Python (GPU)",
   "language": "python",
   "name": "new_gpu"
  },
  "language_info": {
   "codemirror_mode": {
    "name": "ipython",
    "version": 3
   },
   "file_extension": ".py",
   "mimetype": "text/x-python",
   "name": "python",
   "nbconvert_exporter": "python",
   "pygments_lexer": "ipython3",
   "version": "3.9.18"
  }
 },
 "nbformat": 4,
 "nbformat_minor": 5
}
